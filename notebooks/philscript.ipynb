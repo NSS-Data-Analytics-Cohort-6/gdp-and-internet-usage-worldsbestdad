{
 "cells": [
  {
   "cell_type": "markdown",
   "id": "5d5d440a",
   "metadata": {},
   "source": [
    "#3. Import the required packages with their customary aliases as follows:"
   ]
  },
  {
   "cell_type": "code",
   "execution_count": 1,
   "id": "11b7f7bb",
   "metadata": {},
   "outputs": [],
   "source": [
    "import pandas as pd\n",
    "import numpy as np\n",
    "import matplotlib.pyplot as plt\n",
    "import seaborn as sns"
   ]
  },
  {
   "cell_type": "markdown",
   "id": "1dd4e68a",
   "metadata": {},
   "source": [
    "#4. Use the %matplotlib inline magic command so that your plots show in the notebook without having to call plt.show() every time."
   ]
  },
  {
   "cell_type": "code",
   "execution_count": 2,
   "id": "1fbcb893",
   "metadata": {},
   "outputs": [],
   "source": [
    "%matplotlib inline"
   ]
  },
  {
   "cell_type": "markdown",
   "id": "b2953d36",
   "metadata": {},
   "source": [
    "#5. Using the pandas read_csv() method, read the GDP dataset into your notebook as a DataFrame called gdp_df. "
   ]
  },
  {
   "cell_type": "code",
   "execution_count": 3,
   "id": "f3dbe5b9",
   "metadata": {},
   "outputs": [],
   "source": [
    "gdp_df = pd.read_csv(\"../data/gdp_percapita.csv\", nrows=6869)"
   ]
  },
  {
   "cell_type": "markdown",
   "id": "acefa6ff",
   "metadata": {},
   "source": [
    "#6. Repeat for the internet use dataset. Call this DataFrame internet_df."
   ]
  },
  {
   "cell_type": "code",
   "execution_count": 4,
   "id": "d2d0d11c",
   "metadata": {},
   "outputs": [],
   "source": [
    "internet_df = pd.read_csv(\"../data/internet_use.csv\", nrows=4496)"
   ]
  },
  {
   "cell_type": "markdown",
   "id": "aef8f630",
   "metadata": {},
   "source": [
    "#5b. Take a look at the first 6 rows."
   ]
  },
  {
   "cell_type": "code",
   "execution_count": 5,
   "id": "b3ae7634",
   "metadata": {},
   "outputs": [
    {
     "data": {
      "text/html": [
       "<div>\n",
       "<style scoped>\n",
       "    .dataframe tbody tr th:only-of-type {\n",
       "        vertical-align: middle;\n",
       "    }\n",
       "\n",
       "    .dataframe tbody tr th {\n",
       "        vertical-align: top;\n",
       "    }\n",
       "\n",
       "    .dataframe thead th {\n",
       "        text-align: right;\n",
       "    }\n",
       "</style>\n",
       "<table border=\"1\" class=\"dataframe\">\n",
       "  <thead>\n",
       "    <tr style=\"text-align: right;\">\n",
       "      <th></th>\n",
       "      <th>Country or Area</th>\n",
       "      <th>Year</th>\n",
       "      <th>Value</th>\n",
       "      <th>Value Footnotes</th>\n",
       "    </tr>\n",
       "  </thead>\n",
       "  <tbody>\n",
       "    <tr>\n",
       "      <th>0</th>\n",
       "      <td>Afghanistan</td>\n",
       "      <td>2019</td>\n",
       "      <td>2065.036398</td>\n",
       "      <td>NaN</td>\n",
       "    </tr>\n",
       "    <tr>\n",
       "      <th>1</th>\n",
       "      <td>Afghanistan</td>\n",
       "      <td>2018</td>\n",
       "      <td>2033.779002</td>\n",
       "      <td>NaN</td>\n",
       "    </tr>\n",
       "    <tr>\n",
       "      <th>2</th>\n",
       "      <td>Afghanistan</td>\n",
       "      <td>2017</td>\n",
       "      <td>2058.383832</td>\n",
       "      <td>NaN</td>\n",
       "    </tr>\n",
       "    <tr>\n",
       "      <th>3</th>\n",
       "      <td>Afghanistan</td>\n",
       "      <td>2016</td>\n",
       "      <td>2057.062164</td>\n",
       "      <td>NaN</td>\n",
       "    </tr>\n",
       "    <tr>\n",
       "      <th>4</th>\n",
       "      <td>Afghanistan</td>\n",
       "      <td>2015</td>\n",
       "      <td>2068.265904</td>\n",
       "      <td>NaN</td>\n",
       "    </tr>\n",
       "    <tr>\n",
       "      <th>5</th>\n",
       "      <td>Afghanistan</td>\n",
       "      <td>2014</td>\n",
       "      <td>2102.385234</td>\n",
       "      <td>NaN</td>\n",
       "    </tr>\n",
       "  </tbody>\n",
       "</table>\n",
       "</div>"
      ],
      "text/plain": [
       "  Country or Area  Year        Value  Value Footnotes\n",
       "0     Afghanistan  2019  2065.036398              NaN\n",
       "1     Afghanistan  2018  2033.779002              NaN\n",
       "2     Afghanistan  2017  2058.383832              NaN\n",
       "3     Afghanistan  2016  2057.062164              NaN\n",
       "4     Afghanistan  2015  2068.265904              NaN\n",
       "5     Afghanistan  2014  2102.385234              NaN"
      ]
     },
     "execution_count": 5,
     "metadata": {},
     "output_type": "execute_result"
    }
   ],
   "source": [
    "gdp_df.head(6)"
   ]
  },
  {
   "cell_type": "markdown",
   "id": "fcdeac54",
   "metadata": {},
   "source": [
    "#6b. Take a look at the first six rows."
   ]
  },
  {
   "cell_type": "code",
   "execution_count": 6,
   "id": "f9185537",
   "metadata": {},
   "outputs": [
    {
     "data": {
      "text/html": [
       "<div>\n",
       "<style scoped>\n",
       "    .dataframe tbody tr th:only-of-type {\n",
       "        vertical-align: middle;\n",
       "    }\n",
       "\n",
       "    .dataframe tbody tr th {\n",
       "        vertical-align: top;\n",
       "    }\n",
       "\n",
       "    .dataframe thead th {\n",
       "        text-align: right;\n",
       "    }\n",
       "</style>\n",
       "<table border=\"1\" class=\"dataframe\">\n",
       "  <thead>\n",
       "    <tr style=\"text-align: right;\">\n",
       "      <th></th>\n",
       "      <th>Country or Area</th>\n",
       "      <th>Year</th>\n",
       "      <th>Value</th>\n",
       "      <th>Value Footnotes</th>\n",
       "    </tr>\n",
       "  </thead>\n",
       "  <tbody>\n",
       "    <tr>\n",
       "      <th>0</th>\n",
       "      <td>Afghanistan</td>\n",
       "      <td>2014</td>\n",
       "      <td>6.390000</td>\n",
       "      <td>NaN</td>\n",
       "    </tr>\n",
       "    <tr>\n",
       "      <th>1</th>\n",
       "      <td>Afghanistan</td>\n",
       "      <td>2013</td>\n",
       "      <td>5.900000</td>\n",
       "      <td>NaN</td>\n",
       "    </tr>\n",
       "    <tr>\n",
       "      <th>2</th>\n",
       "      <td>Afghanistan</td>\n",
       "      <td>2012</td>\n",
       "      <td>5.454545</td>\n",
       "      <td>NaN</td>\n",
       "    </tr>\n",
       "    <tr>\n",
       "      <th>3</th>\n",
       "      <td>Afghanistan</td>\n",
       "      <td>2011</td>\n",
       "      <td>5.000000</td>\n",
       "      <td>NaN</td>\n",
       "    </tr>\n",
       "    <tr>\n",
       "      <th>4</th>\n",
       "      <td>Afghanistan</td>\n",
       "      <td>2010</td>\n",
       "      <td>4.000000</td>\n",
       "      <td>NaN</td>\n",
       "    </tr>\n",
       "    <tr>\n",
       "      <th>5</th>\n",
       "      <td>Afghanistan</td>\n",
       "      <td>2009</td>\n",
       "      <td>3.550000</td>\n",
       "      <td>NaN</td>\n",
       "    </tr>\n",
       "  </tbody>\n",
       "</table>\n",
       "</div>"
      ],
      "text/plain": [
       "  Country or Area  Year     Value  Value Footnotes\n",
       "0     Afghanistan  2014  6.390000              NaN\n",
       "1     Afghanistan  2013  5.900000              NaN\n",
       "2     Afghanistan  2012  5.454545              NaN\n",
       "3     Afghanistan  2011  5.000000              NaN\n",
       "4     Afghanistan  2010  4.000000              NaN\n",
       "5     Afghanistan  2009  3.550000              NaN"
      ]
     },
     "execution_count": 6,
     "metadata": {},
     "output_type": "execute_result"
    }
   ],
   "source": [
    "internet_df.head(6)"
   ]
  },
  {
   "cell_type": "markdown",
   "id": "c0adf83f",
   "metadata": {},
   "source": [
    "7. Look at the shape of each DataFrame - how many rows? How many columns?\n",
    "\n",
    "gdp_df 4 columns, 6869 rows\n",
    "internet_df 4 columns, 4496 columns\n",
    "gdp_df has 6873 rows, but the last 4 are just notation and footer so 6869 rows that are needed here.\n",
    "internet_df has 4688 rows but a lot of footer notes, so we cut those out to leave 4496 rows."
   ]
  },
  {
   "cell_type": "code",
   "execution_count": 7,
   "id": "eb973f73",
   "metadata": {},
   "outputs": [
    {
     "name": "stdout",
     "output_type": "stream",
     "text": [
      "<bound method DataFrame.info of      Country or Area      Year        Value  Value Footnotes\n",
      "0        Afghanistan      2019  2065.036398              NaN\n",
      "1        Afghanistan      2018  2033.779002              NaN\n",
      "2        Afghanistan      2017  2058.383832              NaN\n",
      "3        Afghanistan      2016  2057.062164              NaN\n",
      "4        Afghanistan      2015  2068.265904              NaN\n",
      "...              ...       ...          ...              ...\n",
      "6864        Zimbabwe      1993  3033.504852              NaN\n",
      "6865        Zimbabwe      1992  3054.889178              NaN\n",
      "6866        Zimbabwe      1991  3426.598094              NaN\n",
      "6867        Zimbabwe      1990  3324.348171              NaN\n",
      "6868   footnoteSeqID  Footnote          NaN              NaN\n",
      "\n",
      "[6869 rows x 4 columns]>\n",
      "<bound method DataFrame.info of      Country or Area      Year     Value  Value Footnotes\n",
      "0        Afghanistan      2014  6.390000              NaN\n",
      "1        Afghanistan      2013  5.900000              NaN\n",
      "2        Afghanistan      2012  5.454545              NaN\n",
      "3        Afghanistan      2011  5.000000              NaN\n",
      "4        Afghanistan      2010  4.000000              NaN\n",
      "...              ...       ...       ...              ...\n",
      "4491        Zimbabwe      1996  0.016790              NaN\n",
      "4492        Zimbabwe      1995  0.007684              NaN\n",
      "4493        Zimbabwe      1994  0.001739              NaN\n",
      "4494        Zimbabwe      1990  0.000000              NaN\n",
      "4495   footnoteSeqID  Footnote       NaN              NaN\n",
      "\n",
      "[4496 rows x 4 columns]>\n"
     ]
    }
   ],
   "source": [
    "print(gdp_df.info)\n",
    "print(internet_df.info)"
   ]
  },
  {
   "cell_type": "markdown",
   "id": "66466c8b",
   "metadata": {},
   "source": [
    "#8. Take a look at the datatypes for the columns in each DataFrame."
   ]
  },
  {
   "cell_type": "code",
   "execution_count": 8,
   "id": "e8719381",
   "metadata": {},
   "outputs": [
    {
     "name": "stdout",
     "output_type": "stream",
     "text": [
      "Country or Area     object\n",
      "Year                object\n",
      "Value              float64\n",
      "Value Footnotes    float64\n",
      "dtype: object\n",
      "Country or Area     object\n",
      "Year                object\n",
      "Value              float64\n",
      "Value Footnotes    float64\n",
      "dtype: object\n"
     ]
    }
   ],
   "source": [
    "print(gdp_df.dtypes)\n",
    "print(internet_df.dtypes)"
   ]
  },
  {
   "cell_type": "markdown",
   "id": "e146de88",
   "metadata": {},
   "source": [
    "#9. Take a look at the last 10 rows of each DataFrame in turn."
   ]
  },
  {
   "cell_type": "code",
   "execution_count": 9,
   "id": "4c7c5325",
   "metadata": {
    "scrolled": true
   },
   "outputs": [
    {
     "name": "stdout",
     "output_type": "stream",
     "text": [
      "     Country or Area      Year        Value  Value Footnotes\n",
      "6859        Zimbabwe      1998  3653.920016              NaN\n",
      "6860        Zimbabwe      1997  3580.048793              NaN\n",
      "6861        Zimbabwe      1996  3520.430146              NaN\n",
      "6862        Zimbabwe      1995  3226.413930              NaN\n",
      "6863        Zimbabwe      1994  3263.934978              NaN\n",
      "6864        Zimbabwe      1993  3033.504852              NaN\n",
      "6865        Zimbabwe      1992  3054.889178              NaN\n",
      "6866        Zimbabwe      1991  3426.598094              NaN\n",
      "6867        Zimbabwe      1990  3324.348171              NaN\n",
      "6868   footnoteSeqID  Footnote          NaN              NaN\n",
      "     Country or Area      Year     Value  Value Footnotes\n",
      "4486        Zimbabwe      2001  0.799846              NaN\n",
      "4487        Zimbabwe      2000  0.401434              NaN\n",
      "4488        Zimbabwe      1999  0.161676              NaN\n",
      "4489        Zimbabwe      1998  0.081648              NaN\n",
      "4490        Zimbabwe      1997  0.033080              NaN\n",
      "4491        Zimbabwe      1996  0.016790              NaN\n",
      "4492        Zimbabwe      1995  0.007684              NaN\n",
      "4493        Zimbabwe      1994  0.001739              NaN\n",
      "4494        Zimbabwe      1990  0.000000              NaN\n",
      "4495   footnoteSeqID  Footnote       NaN              NaN\n"
     ]
    }
   ],
   "source": [
    "print(gdp_df.tail(10))\n",
    "print(internet_df.tail(10))"
   ]
  },
  {
   "cell_type": "code",
   "execution_count": 10,
   "id": "6274c808",
   "metadata": {},
   "outputs": [],
   "source": [
    "gdp_df = gdp_df.rename(columns={\"Country or Area\":\"Country\", \"Value\":\"GDP_Per_Capita\"})\n",
    "internet_df = internet_df.rename(columns={\"Country or Area\":\"Country\", \"Value\":\"Internet_Users_Pct\"})\n",
    "gdp_df = gdp_df.drop(columns=['Value Footnotes'])\n",
    "internet_df = internet_df.drop(columns=['Value Footnotes'])"
   ]
  },
  {
   "cell_type": "markdown",
   "id": "6519d725",
   "metadata": {},
   "source": [
    "#10. Drop the value footnotes column from both DataFrames. Check that this worked as expected."
   ]
  },
  {
   "cell_type": "code",
   "execution_count": 11,
   "id": "e58f62ff",
   "metadata": {},
   "outputs": [
    {
     "name": "stdout",
     "output_type": "stream",
     "text": [
      "            Country      Year  GDP_Per_Capita\n",
      "6859       Zimbabwe      1998     3653.920016\n",
      "6860       Zimbabwe      1997     3580.048793\n",
      "6861       Zimbabwe      1996     3520.430146\n",
      "6862       Zimbabwe      1995     3226.413930\n",
      "6863       Zimbabwe      1994     3263.934978\n",
      "6864       Zimbabwe      1993     3033.504852\n",
      "6865       Zimbabwe      1992     3054.889178\n",
      "6866       Zimbabwe      1991     3426.598094\n",
      "6867       Zimbabwe      1990     3324.348171\n",
      "6868  footnoteSeqID  Footnote             NaN\n",
      "            Country      Year  Internet_Users_Pct\n",
      "4486       Zimbabwe      2001            0.799846\n",
      "4487       Zimbabwe      2000            0.401434\n",
      "4488       Zimbabwe      1999            0.161676\n",
      "4489       Zimbabwe      1998            0.081648\n",
      "4490       Zimbabwe      1997            0.033080\n",
      "4491       Zimbabwe      1996            0.016790\n",
      "4492       Zimbabwe      1995            0.007684\n",
      "4493       Zimbabwe      1994            0.001739\n",
      "4494       Zimbabwe      1990            0.000000\n",
      "4495  footnoteSeqID  Footnote                 NaN\n"
     ]
    }
   ],
   "source": [
    "print(gdp_df.tail(10))\n",
    "print(internet_df.tail(10))"
   ]
  },
  {
   "cell_type": "code",
   "execution_count": 12,
   "id": "8127199d",
   "metadata": {},
   "outputs": [],
   "source": [
    "gdp_and_internet_use = pd.merge(gdp_df, internet_df, on=['Country','Year'],how='outer')"
   ]
  },
  {
   "cell_type": "code",
   "execution_count": 13,
   "id": "c2832596",
   "metadata": {},
   "outputs": [
    {
     "name": "stdout",
     "output_type": "stream",
     "text": [
      "          Country  Year  GDP_Per_Capita  Internet_Users_Pct\n",
      "0     Afghanistan  2019     2065.036398                 NaN\n",
      "1     Afghanistan  2018     2033.779002                 NaN\n",
      "2     Afghanistan  2017     2058.383832                 NaN\n",
      "3     Afghanistan  2016     2057.062164                 NaN\n",
      "4     Afghanistan  2015     2068.265904                 NaN\n",
      "...           ...   ...             ...                 ...\n",
      "7901        Yemen  1999             NaN            0.056629\n",
      "7902        Yemen  1998             NaN            0.023323\n",
      "7903        Yemen  1997             NaN            0.015025\n",
      "7904        Yemen  1996             NaN            0.000621\n",
      "7905        Yemen  1990             NaN            0.000000\n",
      "\n",
      "[7906 rows x 4 columns]\n"
     ]
    }
   ],
   "source": [
    "print(gdp_and_internet_use)"
   ]
  },
  {
   "cell_type": "code",
   "execution_count": 14,
   "id": "0768aa75",
   "metadata": {},
   "outputs": [
    {
     "data": {
      "text/html": [
       "<div>\n",
       "<style scoped>\n",
       "    .dataframe tbody tr th:only-of-type {\n",
       "        vertical-align: middle;\n",
       "    }\n",
       "\n",
       "    .dataframe tbody tr th {\n",
       "        vertical-align: top;\n",
       "    }\n",
       "\n",
       "    .dataframe thead th {\n",
       "        text-align: right;\n",
       "    }\n",
       "</style>\n",
       "<table border=\"1\" class=\"dataframe\">\n",
       "  <thead>\n",
       "    <tr style=\"text-align: right;\">\n",
       "      <th></th>\n",
       "      <th>Country</th>\n",
       "      <th>Year</th>\n",
       "      <th>GDP_Per_Capita</th>\n",
       "      <th>Internet_Users_Pct</th>\n",
       "    </tr>\n",
       "  </thead>\n",
       "  <tbody>\n",
       "    <tr>\n",
       "      <th>0</th>\n",
       "      <td>Afghanistan</td>\n",
       "      <td>2019</td>\n",
       "      <td>2065.036398</td>\n",
       "      <td>NaN</td>\n",
       "    </tr>\n",
       "    <tr>\n",
       "      <th>1</th>\n",
       "      <td>Afghanistan</td>\n",
       "      <td>2018</td>\n",
       "      <td>2033.779002</td>\n",
       "      <td>NaN</td>\n",
       "    </tr>\n",
       "    <tr>\n",
       "      <th>2</th>\n",
       "      <td>Afghanistan</td>\n",
       "      <td>2017</td>\n",
       "      <td>2058.383832</td>\n",
       "      <td>NaN</td>\n",
       "    </tr>\n",
       "    <tr>\n",
       "      <th>3</th>\n",
       "      <td>Afghanistan</td>\n",
       "      <td>2016</td>\n",
       "      <td>2057.062164</td>\n",
       "      <td>NaN</td>\n",
       "    </tr>\n",
       "    <tr>\n",
       "      <th>4</th>\n",
       "      <td>Afghanistan</td>\n",
       "      <td>2015</td>\n",
       "      <td>2068.265904</td>\n",
       "      <td>NaN</td>\n",
       "    </tr>\n",
       "  </tbody>\n",
       "</table>\n",
       "</div>"
      ],
      "text/plain": [
       "       Country  Year  GDP_Per_Capita  Internet_Users_Pct\n",
       "0  Afghanistan  2019     2065.036398                 NaN\n",
       "1  Afghanistan  2018     2033.779002                 NaN\n",
       "2  Afghanistan  2017     2058.383832                 NaN\n",
       "3  Afghanistan  2016     2057.062164                 NaN\n",
       "4  Afghanistan  2015     2068.265904                 NaN"
      ]
     },
     "execution_count": 14,
     "metadata": {},
     "output_type": "execute_result"
    }
   ],
   "source": [
    "gdp_and_internet_use.head(5)"
   ]
  },
  {
   "cell_type": "code",
   "execution_count": 15,
   "id": "e263c289",
   "metadata": {},
   "outputs": [
    {
     "data": {
      "text/html": [
       "<div>\n",
       "<style scoped>\n",
       "    .dataframe tbody tr th:only-of-type {\n",
       "        vertical-align: middle;\n",
       "    }\n",
       "\n",
       "    .dataframe tbody tr th {\n",
       "        vertical-align: top;\n",
       "    }\n",
       "\n",
       "    .dataframe thead th {\n",
       "        text-align: right;\n",
       "    }\n",
       "</style>\n",
       "<table border=\"1\" class=\"dataframe\">\n",
       "  <thead>\n",
       "    <tr style=\"text-align: right;\">\n",
       "      <th></th>\n",
       "      <th>Country</th>\n",
       "      <th>Year</th>\n",
       "      <th>GDP_Per_Capita</th>\n",
       "      <th>Internet_Users_Pct</th>\n",
       "    </tr>\n",
       "  </thead>\n",
       "  <tbody>\n",
       "    <tr>\n",
       "      <th>7901</th>\n",
       "      <td>Yemen</td>\n",
       "      <td>1999</td>\n",
       "      <td>NaN</td>\n",
       "      <td>0.056629</td>\n",
       "    </tr>\n",
       "    <tr>\n",
       "      <th>7902</th>\n",
       "      <td>Yemen</td>\n",
       "      <td>1998</td>\n",
       "      <td>NaN</td>\n",
       "      <td>0.023323</td>\n",
       "    </tr>\n",
       "    <tr>\n",
       "      <th>7903</th>\n",
       "      <td>Yemen</td>\n",
       "      <td>1997</td>\n",
       "      <td>NaN</td>\n",
       "      <td>0.015025</td>\n",
       "    </tr>\n",
       "    <tr>\n",
       "      <th>7904</th>\n",
       "      <td>Yemen</td>\n",
       "      <td>1996</td>\n",
       "      <td>NaN</td>\n",
       "      <td>0.000621</td>\n",
       "    </tr>\n",
       "    <tr>\n",
       "      <th>7905</th>\n",
       "      <td>Yemen</td>\n",
       "      <td>1990</td>\n",
       "      <td>NaN</td>\n",
       "      <td>0.000000</td>\n",
       "    </tr>\n",
       "  </tbody>\n",
       "</table>\n",
       "</div>"
      ],
      "text/plain": [
       "     Country  Year  GDP_Per_Capita  Internet_Users_Pct\n",
       "7901   Yemen  1999             NaN            0.056629\n",
       "7902   Yemen  1998             NaN            0.023323\n",
       "7903   Yemen  1997             NaN            0.015025\n",
       "7904   Yemen  1996             NaN            0.000621\n",
       "7905   Yemen  1990             NaN            0.000000"
      ]
     },
     "execution_count": 15,
     "metadata": {},
     "output_type": "execute_result"
    }
   ],
   "source": [
    "gdp_and_internet_use.tail(5)"
   ]
  },
  {
   "cell_type": "code",
   "execution_count": 16,
   "id": "ee8c9bfc",
   "metadata": {},
   "outputs": [],
   "source": [
    "gdp_and_internet_use.drop(gdp_and_internet_use.tail(1).index,\n",
    "        inplace = True)"
   ]
  },
  {
   "cell_type": "code",
   "execution_count": 17,
   "id": "93b0d475",
   "metadata": {},
   "outputs": [
    {
     "data": {
      "text/html": [
       "<div>\n",
       "<style scoped>\n",
       "    .dataframe tbody tr th:only-of-type {\n",
       "        vertical-align: middle;\n",
       "    }\n",
       "\n",
       "    .dataframe tbody tr th {\n",
       "        vertical-align: top;\n",
       "    }\n",
       "\n",
       "    .dataframe thead th {\n",
       "        text-align: right;\n",
       "    }\n",
       "</style>\n",
       "<table border=\"1\" class=\"dataframe\">\n",
       "  <thead>\n",
       "    <tr style=\"text-align: right;\">\n",
       "      <th></th>\n",
       "      <th>Country</th>\n",
       "      <th>Year</th>\n",
       "      <th>GDP_Per_Capita</th>\n",
       "      <th>Internet_Users_Pct</th>\n",
       "    </tr>\n",
       "  </thead>\n",
       "  <tbody>\n",
       "    <tr>\n",
       "      <th>7900</th>\n",
       "      <td>Yemen</td>\n",
       "      <td>2000</td>\n",
       "      <td>NaN</td>\n",
       "      <td>0.082500</td>\n",
       "    </tr>\n",
       "    <tr>\n",
       "      <th>7901</th>\n",
       "      <td>Yemen</td>\n",
       "      <td>1999</td>\n",
       "      <td>NaN</td>\n",
       "      <td>0.056629</td>\n",
       "    </tr>\n",
       "    <tr>\n",
       "      <th>7902</th>\n",
       "      <td>Yemen</td>\n",
       "      <td>1998</td>\n",
       "      <td>NaN</td>\n",
       "      <td>0.023323</td>\n",
       "    </tr>\n",
       "    <tr>\n",
       "      <th>7903</th>\n",
       "      <td>Yemen</td>\n",
       "      <td>1997</td>\n",
       "      <td>NaN</td>\n",
       "      <td>0.015025</td>\n",
       "    </tr>\n",
       "    <tr>\n",
       "      <th>7904</th>\n",
       "      <td>Yemen</td>\n",
       "      <td>1996</td>\n",
       "      <td>NaN</td>\n",
       "      <td>0.000621</td>\n",
       "    </tr>\n",
       "  </tbody>\n",
       "</table>\n",
       "</div>"
      ],
      "text/plain": [
       "     Country  Year  GDP_Per_Capita  Internet_Users_Pct\n",
       "7900   Yemen  2000             NaN            0.082500\n",
       "7901   Yemen  1999             NaN            0.056629\n",
       "7902   Yemen  1998             NaN            0.023323\n",
       "7903   Yemen  1997             NaN            0.015025\n",
       "7904   Yemen  1996             NaN            0.000621"
      ]
     },
     "execution_count": 17,
     "metadata": {},
     "output_type": "execute_result"
    }
   ],
   "source": [
    "gdp_and_internet_use.tail(5)"
   ]
  },
  {
   "cell_type": "code",
   "execution_count": 18,
   "id": "88197cdd",
   "metadata": {},
   "outputs": [],
   "source": [
    "#gdp_and_internet_use_2009 = gdp_and_internet_use[gdp_and_internet_use['Year']=='2019'] We want 2004, 2009, and 2014\n",
    "#The below code breaks the kernel everytime lol, don't use it\n",
    "#gdpyears = np.logical_or(gdp_and_internet_use['Year'] == '2004', gdp_and_internet_use['Year'] == '2009', gdp_and_internet_use['Year'] == '2014')\n",
    "#gdprealyears = np.logical_or(gdpyears == 2004, gdpyears == 2009, gdpyears == 2014)\n",
    "#gdp_and_internet_use[gdp_and_internet_use[gdprealyears]]\n",
    "#s = df[df['color'].isin(['Yellow', 'Green'])]"
   ]
  },
  {
   "cell_type": "markdown",
   "id": "0f3e26a8",
   "metadata": {},
   "source": [
    "#16. Subset the combined DataFrame to keep only the data for 2004, 2009, and 2014. Check that this happened correctly.\n",
    "#17. Create three new DataFrames, one for 2004, one for 2009, and one for 2014. Give them meaningful names that aren't too long."
   ]
  },
  {
   "cell_type": "code",
   "execution_count": 19,
   "id": "78cd4e5b",
   "metadata": {},
   "outputs": [],
   "source": [
    "gdp_realyears = gdp_and_internet_use[gdp_and_internet_use['Year'].isin(['2004', '2009', '2014'])]\n",
    "#gdp_realyears is kind of a dumb name for this, but I'm sticking with it\n",
    "gdp_int2004 = gdp_and_internet_use[gdp_and_internet_use['Year']=='2004']\n",
    "gdp_int2009 = gdp_and_internet_use[gdp_and_internet_use['Year']=='2009']\n",
    "gdp_int2014 = gdp_and_internet_use[gdp_and_internet_use['Year']=='2014']"
   ]
  },
  {
   "cell_type": "code",
   "execution_count": 20,
   "id": "e11d9024",
   "metadata": {},
   "outputs": [
    {
     "name": "stdout",
     "output_type": "stream",
     "text": [
      "                    Country  Year  GDP_Per_Capita  Internet_Users_Pct\n",
      "5               Afghanistan  2014     2102.385234            6.390000\n",
      "10              Afghanistan  2009     1758.904043            3.550000\n",
      "15              Afghanistan  2004     1200.278256            0.105809\n",
      "23                  Albania  2014    11623.866679           60.100000\n",
      "28                  Albania  2009    10346.864199           41.200000\n",
      "...                     ...   ...             ...                 ...\n",
      "7869  Virgin Islands (U.S.)  2009             NaN           27.396510\n",
      "7874  Virgin Islands (U.S.)  2004             NaN           27.377009\n",
      "7886                  Yemen  2014             NaN           22.550000\n",
      "7891                  Yemen  2009             NaN            9.960000\n",
      "7896                  Yemen  2004             NaN            0.881223\n",
      "\n",
      "[830 rows x 4 columns]\n"
     ]
    }
   ],
   "source": [
    "print(gdp_realyears)"
   ]
  },
  {
   "cell_type": "markdown",
   "id": "57c0b18a",
   "metadata": {},
   "source": [
    "#18. Which country had the highest percentage of internet users in 2014? What was the percentage? (Try typing the first 3 letters of your DataFrame name and hitting the tab key for auto-complete options).\n",
    "*Iceland has the higest 2014 internet users at 96.18%*"
   ]
  },
  {
   "cell_type": "code",
   "execution_count": 21,
   "id": "06188f25",
   "metadata": {},
   "outputs": [
    {
     "name": "stdout",
     "output_type": "stream",
     "text": [
      "      Country  Year  GDP_Per_Capita  Internet_Users_Pct\n",
      "2625  Iceland  2014      49652.1495               98.16\n"
     ]
    }
   ],
   "source": [
    "#df.nlargest(n=5, columns=['Magnitude', 'Depth'])\n",
    "print(gdp_int2014.nlargest(n=1, columns=['Internet_Users_Pct']))"
   ]
  },
  {
   "cell_type": "markdown",
   "id": "eeb01639",
   "metadata": {},
   "source": [
    "#20. Repeat for 2004 and 2009.\n",
    "Sweden in 2004 at 83.39%, Iceland in 2009 at 93%"
   ]
  },
  {
   "cell_type": "code",
   "execution_count": 22,
   "id": "843e3f5f",
   "metadata": {},
   "outputs": [
    {
     "name": "stdout",
     "output_type": "stream",
     "text": [
      "     Country  Year  GDP_Per_Capita  Internet_Users_Pct\n",
      "6019  Sweden  2004    44496.023401               83.89\n",
      "      Country  Year  GDP_Per_Capita  Internet_Users_Pct\n",
      "2630  Iceland  2009    48177.084123                93.0\n"
     ]
    }
   ],
   "source": [
    "print(gdp_int2004.nlargest(n=1, columns=['Internet_Users_Pct']))\n",
    "print(gdp_int2009.nlargest(n=1, columns=['Internet_Users_Pct']))\n",
    "#Sweden in 2004 at 83.39%, Iceland in 2009 at 93%"
   ]
  },
  {
   "cell_type": "markdown",
   "id": "9f3e1727",
   "metadata": {},
   "source": [
    "#19. Which country had the lowest percentage of internet users in 2014? What was the percentage?\n",
    "Looks like The good ol' North Korea is crushing it on internet percentage. In 2004 & 2009"
   ]
  },
  {
   "cell_type": "code",
   "execution_count": 23,
   "id": "443d8265",
   "metadata": {},
   "outputs": [
    {
     "name": "stdout",
     "output_type": "stream",
     "text": [
      "                          Country  Year  GDP_Per_Capita  Internet_Users_Pct\n",
      "7089  Dem. People's Rep. of Korea  2004             NaN                 0.0\n",
      "                          Country  Year  GDP_Per_Capita  Internet_Users_Pct\n",
      "7084  Dem. People's Rep. of Korea  2009             NaN                 0.0\n",
      "                          Country  Year  GDP_Per_Capita  Internet_Users_Pct\n",
      "7080  Dem. People's Rep. of Korea  2014             NaN                 0.0\n"
     ]
    }
   ],
   "source": [
    "print(gdp_int2004.nsmallest(n=1, columns=['Internet_Users_Pct']))\n",
    "print(gdp_int2009.nsmallest(n=1, columns=['Internet_Users_Pct']))\n",
    "print(gdp_int2014.nsmallest(n=1, columns=['Internet_Users_Pct']))\n",
    "#Look at .sort to see if you could use this instead! .sort_values(by='column', ascending=False)"
   ]
  },
  {
   "cell_type": "markdown",
   "id": "c59040e4",
   "metadata": {},
   "source": [
    "#21. Which country had the highest gdp per capita in 2014? What was the gdp per capita?\n",
    "#22. Which country had the lowest gdp per capita in 2014? What was the gdp per capita?\n",
    "Macao SAR(???) with the highest GDP_Per_Capita as 108,761 (Dollars? Idk what currency this is in)\n",
    "Central African Republic has the lowest GDP_Per_Capita at 886."
   ]
  },
  {
   "cell_type": "code",
   "execution_count": 24,
   "id": "e582de06",
   "metadata": {},
   "outputs": [
    {
     "name": "stdout",
     "output_type": "stream",
     "text": [
      "               Country  Year  GDP_Per_Capita  Internet_Users_Pct\n",
      "3721  Macao SAR, China  2014    156514.13385                 NaN\n",
      "                       Country  Year  GDP_Per_Capita  Internet_Users_Pct\n",
      "1047  Central African Republic  2014      822.610458                 NaN\n"
     ]
    }
   ],
   "source": [
    "print(gdp_int2014.nlargest(n=1, columns=['GDP_Per_Capita']))\n",
    "print(gdp_int2014.nsmallest(n=1, columns=['GDP_Per_Capita']))"
   ]
  },
  {
   "cell_type": "markdown",
   "id": "43a6c5fe",
   "metadata": {},
   "source": [
    "#23. Create some scatterplots:\n",
    "a. 2004 Percent Using the Internet vs GDP Per Capita\n",
    "b. 2009 Percent Using the Internet vs GDP Per Capita\n",
    "c. 2014 Percent Using the Internet vs GDP Per Capita"
   ]
  },
  {
   "cell_type": "code",
   "execution_count": 43,
   "id": "73d7feee",
   "metadata": {},
   "outputs": [
    {
     "data": {
      "text/plain": [
       "Text(0.5, 1.0, '2004')"
      ]
     },
     "execution_count": 43,
     "metadata": {},
     "output_type": "execute_result"
    },
    {
     "data": {
      "image/png": "[encoded data removed]",
      "text/plain": [
       "<Figure size 432x288 with 1 Axes>"
      ]
     },
     "metadata": {
      "needs_background": "light"
     },
     "output_type": "display_data"
    }
   ],
   "source": [
    "plt.scatter(gdp_int2004['GDP_Per_Capita'],gdp_int2004['Internet_Users_Pct'])\n",
    "plt.ylabel('GDP Per Capita')\n",
    "plt.xlabel('Pct of Internet Users')\n",
    "plt.title('2004')"
   ]
  },
  {
   "cell_type": "code",
   "execution_count": 44,
   "id": "92d3118e",
   "metadata": {},
   "outputs": [
    {
     "data": {
      "text/plain": [
       "Text(0.5, 1.0, '2009')"
      ]
     },
     "execution_count": 44,
     "metadata": {},
     "output_type": "execute_result"
    },
    {
     "data": {
      "image/png": "[encoded data removed]",
      "text/plain": [
       "<Figure size 432x288 with 1 Axes>"
      ]
     },
     "metadata": {
      "needs_background": "light"
     },
     "output_type": "display_data"
    }
   ],
   "source": [
    "plt.scatter(gdp_int2009['GDP_Per_Capita'],gdp_int2009['Internet_Users_Pct'])\n",
    "plt.ylabel('GDP Per Capita')\n",
    "plt.xlabel('Pct of Internet Users')\n",
    "plt.title('2009')"
   ]
  },
  {
   "cell_type": "code",
   "execution_count": 27,
   "id": "5b4e15b0",
   "metadata": {},
   "outputs": [
    {
     "data": {
      "text/plain": [
       "Text(0.5, 1.0, '2014')"
      ]
     },
     "execution_count": 27,
     "metadata": {},
     "output_type": "execute_result"
    },
    {
     "data": {
      "image/png": "[encoded data removed]",
      "text/plain": [
       "<Figure size 432x288 with 1 Axes>"
      ]
     },
     "metadata": {
      "needs_background": "light"
     },
     "output_type": "display_data"
    }
   ],
   "source": [
    "plt.scatter(gdp_int2014['Internet_Users_Pct'], gdp_int2014['GDP_Per_Capita'])\n",
    "plt.ylabel('GDP Per Capita')\n",
    "plt.xlabel('Pct of Internet Users')\n",
    "plt.title('2014')"
   ]
  },
  {
   "cell_type": "code",
   "execution_count": 28,
   "id": "a013bdfa",
   "metadata": {
    "scrolled": true
   },
   "outputs": [
    {
     "data": {
      "text/plain": [
       "(array([31., 31., 12., 10., 24., 18., 21., 20., 18., 17.]),\n",
       " array([ 0.   ,  9.816, 19.632, 29.448, 39.264, 49.08 , 58.896, 68.712,\n",
       "        78.528, 88.344, 98.16 ]),\n",
       " <BarContainer object of 10 artists>)"
      ]
     },
     "execution_count": 28,
     "metadata": {},
     "output_type": "execute_result"
    },
    {
     "data": {
      "image/png": "[encoded data removed]",
      "text/plain": [
       "<Figure size 432x288 with 1 Axes>"
      ]
     },
     "metadata": {
      "needs_background": "light"
     },
     "output_type": "display_data"
    }
   ],
   "source": [
    "plt.hist(gdp_int2014['Internet_Users_Pct'])"
   ]
  },
  {
   "cell_type": "code",
   "execution_count": 29,
   "id": "7b05dc0b",
   "metadata": {},
   "outputs": [
    {
     "data": {
      "text/plain": [
       "(array([146.,  41.,  25.,  18.,   4.,   1.,   2.,   0.,   0.,   1.]),\n",
       " array([   822.61045782,  16391.76279701,  31960.91513621,  47530.06747541,\n",
       "         63099.2198146 ,  78668.3721538 ,  94237.524493  , 109806.67683219,\n",
       "        125375.82917139, 140944.98151059, 156514.13384978]),\n",
       " <BarContainer object of 10 artists>)"
      ]
     },
     "execution_count": 29,
     "metadata": {},
     "output_type": "execute_result"
    },
    {
     "data": {
      "image/png": "[encoded data removed]",
      "text/plain": [
       "<Figure size 432x288 with 1 Axes>"
      ]
     },
     "metadata": {
      "needs_background": "light"
     },
     "output_type": "display_data"
    }
   ],
   "source": [
    "plt.hist(gdp_int2014['GDP_Per_Capita'])"
   ]
  },
  {
   "cell_type": "markdown",
   "id": "0d5e2a47",
   "metadata": {},
   "source": [
    "Array of integers is unimodal, if:\n",
    "\n",
    "-it is strictly increasing in the beginning;\n",
    "\n",
    "-after that it is constant;\n",
    "\n",
    "-after that it is strictly decreasing.\n",
    "\n",
    "Ok yeah, all of these are looking pretty darn unimodal to me! Especially in 2009 & 2014, 2004 was pretty early on.\n"
   ]
  },
  {
   "cell_type": "markdown",
   "id": "031eb19c",
   "metadata": {},
   "source": [
    "#27. What are the top 5 countries in terms of internet use in 2014?\n",
    "\n",
    "      Country  Year  GDP_Per_Capita  Internet_Users_Pct\n",
    "2625  Iceland  2014    49652.149500               98.16\n",
    "561   Bermuda  2014    77361.104881               96.80\n",
    "4648   Norway  2014    62589.373548               96.30\n",
    "1452  Denmark  2014    52214.537753               95.99\n",
    "6872  Andorra  2014             NaN               95.90"
   ]
  },
  {
   "cell_type": "markdown",
   "id": "398ae046",
   "metadata": {},
   "source": [
    "#28. Create a DataFrame called top_5_internet from the combined DataFrame that has all three years for the 5 countries that had the greatest 2014 internet usage. You should have 15 rows. Check that this is true."
   ]
  },
  {
   "cell_type": "code",
   "execution_count": 30,
   "id": "ca6cc044",
   "metadata": {
    "scrolled": true
   },
   "outputs": [
    {
     "name": "stdout",
     "output_type": "stream",
     "text": [
      "      Country  Year  GDP_Per_Capita  Internet_Users_Pct\n",
      "2625  Iceland  2014    49652.149500               98.16\n",
      "561   Bermuda  2014    77361.104881               96.80\n",
      "4648   Norway  2014    62589.373548               96.30\n",
      "1452  Denmark  2014    52214.537753               95.99\n",
      "6872  Andorra  2014             NaN               95.90\n"
     ]
    }
   ],
   "source": [
    "gpd_int2014topinternet = gdp_int2014.nlargest(n=5, columns=['Internet_Users_Pct'])\n",
    "print(gpd_int2014topinternet)\n",
    "top_5_internet = gdp_realyears[gdp_realyears['Country'].isin(gpd_int2014topinternet['Country'])]"
   ]
  },
  {
   "cell_type": "markdown",
   "id": "f150945a",
   "metadata": {},
   "source": [
    "Create a DataFrame called top_5_internet from the combined DataFrame that has all three years for the 5 countries that had the greatest 2014 internet usage. You should have 15 rows. Check that this is true."
   ]
  },
  {
   "cell_type": "markdown",
   "id": "1a9de9e0",
   "metadata": {},
   "source": [
    "This top_5_internet works really well!!!"
   ]
  },
  {
   "cell_type": "code",
   "execution_count": 31,
   "id": "5ff5bd0c",
   "metadata": {},
   "outputs": [
    {
     "name": "stdout",
     "output_type": "stream",
     "text": [
      "      Country  Year  GDP_Per_Capita  Internet_Users_Pct\n",
      "561   Bermuda  2014    77361.104881           96.800000\n",
      "566   Bermuda  2009    89961.982744           83.250000\n",
      "571   Bermuda  2004    90195.811033           60.990867\n",
      "1452  Denmark  2014    52214.537753           95.990000\n",
      "1457  Denmark  2009    50274.075696           86.840000\n",
      "1462  Denmark  2004    50607.628971           80.930000\n",
      "2625  Iceland  2014    49652.149500           98.160000\n",
      "2630  Iceland  2009    48177.084123           93.000000\n",
      "2635  Iceland  2004    45145.545658           83.880000\n",
      "4648   Norway  2014    62589.373548           96.300000\n",
      "4653   Norway  2009    61886.564498           92.080000\n",
      "4658   Norway  2004    60893.410993           77.690000\n",
      "6872  Andorra  2014             NaN           95.900000\n",
      "6877  Andorra  2009             NaN           78.530000\n",
      "6882  Andorra  2004             NaN           26.837954\n"
     ]
    }
   ],
   "source": [
    "print(top_5_internet)"
   ]
  },
  {
   "cell_type": "markdown",
   "id": "53bb4b73",
   "metadata": {},
   "source": [
    "Andorra really flew up the list in the 10 year span, gaining ~35% of the total population in internet users in the time frame"
   ]
  },
  {
   "cell_type": "markdown",
   "id": "d8ca3b21",
   "metadata": {},
   "source": [
    "g = sns.FacetGrid(df, col = \"Product\", row = 'Day')\n",
    "\n",
    "Create a seaborn FacetGrid to show the internet usage trend across the years 2004, 2009, and 2014 for these 5 countries (those with the highest reported internet use in 2014). Which country had the greatest growth between 2004 and 2014?"
   ]
  },
  {
   "cell_type": "markdown",
   "id": "edea04cd",
   "metadata": {},
   "source": [
    "#29. Create a seaborn FacetGrid to show the internet usage trend across the years 2004, 2009, and 2014 for these 5 countries (those with the highest reported internet use in 2014). Which country had the greatest growth between 2004 and 2014?"
   ]
  },
  {
   "cell_type": "code",
   "execution_count": 32,
   "id": "2e6d9124",
   "metadata": {},
   "outputs": [
    {
     "data": {
      "text/plain": [
       "<seaborn.axisgrid.FacetGrid at 0x1d7dfaedc70>"
      ]
     },
     "execution_count": 32,
     "metadata": {},
     "output_type": "execute_result"
    },
    {
     "data": {
      "image/png": "[encoded data removed]",
      "text/plain": [
       "<Figure size 297.875x216 with 1 Axes>"
      ]
     },
     "metadata": {
      "needs_background": "light"
     },
     "output_type": "display_data"
    }
   ],
   "source": [
    "grid = sns.FacetGrid(top_5_internet, hue = \"Country\")\n",
    "grid.map(sns.lineplot, 'Year', 'Internet_Users_Pct')\n",
    "plt.xlim(reversed(plt.xlim()))\n",
    "#grid.xticks('2004','2009','2014')\n",
    "grid.add_legend()\n",
    "#This works for now, but I want to move the year to a different order\n",
    "#The plt.xlim swapped it around, thanks google!!"
   ]
  },
  {
   "cell_type": "markdown",
   "id": "b3700d8b",
   "metadata": {},
   "source": [
    "#30. Repeat the steps above to look at the trend for the 5 countries with the lowest 2014 internet usage. Which country has consistently had the least internet use?"
   ]
  },
  {
   "cell_type": "code",
   "execution_count": 33,
   "id": "da68c8f8",
   "metadata": {},
   "outputs": [
    {
     "name": "stdout",
     "output_type": "stream",
     "text": [
      "                          Country  Year  GDP_Per_Capita  Internet_Users_Pct\n",
      "7080  Dem. People's Rep. of Korea  2014             NaN                0.00\n",
      "7138                      Eritrea  2014             NaN                0.99\n",
      "6219                  Timor-Leste  2014     3264.568070                1.14\n",
      "827                       Burundi  2014      886.235777                1.38\n",
      "7675                      Somalia  2014             NaN                1.63\n"
     ]
    }
   ],
   "source": [
    "gpd_int2014bottominternet = gdp_int2014.nsmallest(n=5, columns=['Internet_Users_Pct'])\n",
    "print(gpd_int2014bottominternet)\n",
    "bottom_5_internet = gdp_realyears[gdp_realyears['Country'].isin(gpd_int2014bottominternet['Country'])]"
   ]
  },
  {
   "cell_type": "code",
   "execution_count": 34,
   "id": "8d16ebb7",
   "metadata": {
    "scrolled": true
   },
   "outputs": [
    {
     "data": {
      "text/plain": [
       "<seaborn.axisgrid.FacetGrid at 0x1d7dfbacb50>"
      ]
     },
     "execution_count": 34,
     "metadata": {},
     "output_type": "execute_result"
    },
    {
     "data": {
      "image/png": "[encoded data removed]",
      "text/plain": [
       "<Figure size 392.125x216 with 1 Axes>"
      ]
     },
     "metadata": {
      "needs_background": "light"
     },
     "output_type": "display_data"
    }
   ],
   "source": [
    "grid = sns.FacetGrid(bottom_5_internet, hue = \"Country\")\n",
    "grid.map(sns.lineplot, 'Year', 'Internet_Users_Pct')\n",
    "plt.xlim(reversed(plt.xlim()))\n",
    "grid.add_legend()"
   ]
  },
  {
   "cell_type": "markdown",
   "id": "c6e1b9d7",
   "metadata": {},
   "source": [
    "#31. Find the top 5 countries for 2014 in terms of GDP per capita; create a DataFrame to look at 10-year trends (use 2004, 2009, 2014 to look at the 10-year trend) in gdp per capita for the 5 countries with the highest 2014 GDP per capita. Use a seaborn facet grid for this."
   ]
  },
  {
   "cell_type": "code",
   "execution_count": 35,
   "id": "f85150b8",
   "metadata": {},
   "outputs": [
    {
     "name": "stdout",
     "output_type": "stream",
     "text": [
      "               Country  Year  GDP_Per_Capita  Internet_Users_Pct\n",
      "3721  Macao SAR, China  2014   156514.133850                 NaN\n",
      "3691        Luxembourg  2014   108760.916030               94.67\n",
      "5138             Qatar  2014    95578.416973               91.49\n",
      "5464         Singapore  2014    87808.663157               82.00\n",
      "561            Bermuda  2014    77361.104881               96.80\n"
     ]
    },
    {
     "data": {
      "text/plain": [
       "<seaborn.axisgrid.FacetGrid at 0x1d7dfc29640>"
      ]
     },
     "execution_count": 35,
     "metadata": {},
     "output_type": "execute_result"
    },
    {
     "data": {
      "image/png": "[encoded data removed]",
      "text/plain": [
       "<Figure size 342.5x216 with 1 Axes>"
      ]
     },
     "metadata": {
      "needs_background": "light"
     },
     "output_type": "display_data"
    }
   ],
   "source": [
    "print(gdp_int2014.nlargest(n=5, columns=['GDP_Per_Capita']))\n",
    "gdp_int2014topgdp = gdp_int2014.nlargest(n=5, columns=['GDP_Per_Capita'])\n",
    "top_5_GDP = gdp_realyears[gdp_realyears['Country'].isin(gdp_int2014topgdp['Country'])]\n",
    "grid = sns.FacetGrid(top_5_GDP, hue = \"Country\")\n",
    "grid.map(sns.lineplot, 'Year', 'GDP_Per_Capita')\n",
    "plt.xlim(reversed(plt.xlim()))\n",
    "grid.add_legend()"
   ]
  },
  {
   "cell_type": "markdown",
   "id": "455abcff",
   "metadata": {},
   "source": [
    "#32. Repeat this one more time to look at 10-year trend for the 5 countries for 2014 with the lowest GDP per capita."
   ]
  },
  {
   "cell_type": "code",
   "execution_count": 36,
   "id": "19f8131b",
   "metadata": {},
   "outputs": [
    {
     "name": "stdout",
     "output_type": "stream",
     "text": [
      "                       Country  Year  GDP_Per_Capita  Internet_Users_Pct\n",
      "1047  Central African Republic  2014      822.610458                 NaN\n",
      "827                    Burundi  2014      886.235777                1.38\n",
      "3781                    Malawi  2014     1027.208496                5.83\n",
      "1422           Dem. Rep. Congo  2014     1029.790785                 NaN\n",
      "4528                     Niger  2014     1127.615541                1.95\n"
     ]
    },
    {
     "data": {
      "text/plain": [
       "<seaborn.axisgrid.FacetGrid at 0x1d7dfc550a0>"
      ]
     },
     "execution_count": 36,
     "metadata": {},
     "output_type": "execute_result"
    },
    {
     "data": {
      "image/png": "[encoded data removed]",
      "text/plain": [
       "<Figure size 372.375x216 with 1 Axes>"
      ]
     },
     "metadata": {
      "needs_background": "light"
     },
     "output_type": "display_data"
    }
   ],
   "source": [
    "print(gdp_int2014.nsmallest(n=5, columns=['GDP_Per_Capita']))\n",
    "gdp_int2014bottomgdp = gdp_int2014.nsmallest(n=5, columns=['GDP_Per_Capita'])\n",
    "bottom_5_GDP = gdp_realyears[gdp_realyears['Country'].isin(gdp_int2014bottomgdp['Country'])]\n",
    "grid = sns.FacetGrid(bottom_5_GDP, hue = \"Country\")\n",
    "grid.map(sns.lineplot, 'Year', 'GDP_Per_Capita')\n",
    "plt.xlim(reversed(plt.xlim()))\n",
    "grid.add_legend()"
   ]
  },
  {
   "cell_type": "markdown",
   "id": "3850ecc8",
   "metadata": {},
   "source": [
    "#33. Is there anything surprising or unusual in any of these plots? Searching on the internet, can you find any possible explanations for unusual findings?\n",
    "\n",
    "Yes & No, \n",
    "The top 5 internet user percentage usually contains small, isolated countries (or countries that are too cold to do anything outside for like half the year)\n",
    "Personally, I've never heard of Macao SAR. And, after some googling, I'm still not entirely sure what it is?? But a semi-autonomous region in China that also has a lot of powerful people there (maybe). So that makes sense that it has a very high GDP. Bermuda is interesting to me, and I wonder if that's from a tax evasion standpoint or if it's tourism.\n",
    "\n",
    "Also it stinks to live in North Korea, but that's not a surprise. "
   ]
  },
  {
   "cell_type": "code",
   "execution_count": 37,
   "id": "a91c29b7",
   "metadata": {},
   "outputs": [],
   "source": [
    "sf6_df = pd.read_csv(\"../data/sf6_emissions.csv\", nrows=1256)"
   ]
  },
  {
   "cell_type": "code",
   "execution_count": 38,
   "id": "77bc588e",
   "metadata": {},
   "outputs": [
    {
     "data": {
      "text/html": [
       "<div>\n",
       "<style scoped>\n",
       "    .dataframe tbody tr th:only-of-type {\n",
       "        vertical-align: middle;\n",
       "    }\n",
       "\n",
       "    .dataframe tbody tr th {\n",
       "        vertical-align: top;\n",
       "    }\n",
       "\n",
       "    .dataframe thead th {\n",
       "        text-align: right;\n",
       "    }\n",
       "</style>\n",
       "<table border=\"1\" class=\"dataframe\">\n",
       "  <thead>\n",
       "    <tr style=\"text-align: right;\">\n",
       "      <th></th>\n",
       "      <th>Country or Area</th>\n",
       "      <th>Year</th>\n",
       "      <th>Value</th>\n",
       "    </tr>\n",
       "  </thead>\n",
       "  <tbody>\n",
       "    <tr>\n",
       "      <th>0</th>\n",
       "      <td>Australia</td>\n",
       "      <td>2019</td>\n",
       "      <td>136.861720</td>\n",
       "    </tr>\n",
       "    <tr>\n",
       "      <th>1</th>\n",
       "      <td>Australia</td>\n",
       "      <td>2018</td>\n",
       "      <td>145.265400</td>\n",
       "    </tr>\n",
       "    <tr>\n",
       "      <th>2</th>\n",
       "      <td>Australia</td>\n",
       "      <td>2017</td>\n",
       "      <td>115.357167</td>\n",
       "    </tr>\n",
       "    <tr>\n",
       "      <th>3</th>\n",
       "      <td>Australia</td>\n",
       "      <td>2016</td>\n",
       "      <td>117.125146</td>\n",
       "    </tr>\n",
       "    <tr>\n",
       "      <th>4</th>\n",
       "      <td>Australia</td>\n",
       "      <td>2015</td>\n",
       "      <td>116.172156</td>\n",
       "    </tr>\n",
       "  </tbody>\n",
       "</table>\n",
       "</div>"
      ],
      "text/plain": [
       "  Country or Area  Year       Value\n",
       "0       Australia  2019  136.861720\n",
       "1       Australia  2018  145.265400\n",
       "2       Australia  2017  115.357167\n",
       "3       Australia  2016  117.125146\n",
       "4       Australia  2015  116.172156"
      ]
     },
     "execution_count": 38,
     "metadata": {},
     "output_type": "execute_result"
    }
   ],
   "source": [
    "sf6_df.head(5)"
   ]
  },
  {
   "cell_type": "code",
   "execution_count": 39,
   "id": "1089d133",
   "metadata": {
    "scrolled": true
   },
   "outputs": [
    {
     "data": {
      "text/html": [
       "<div>\n",
       "<style scoped>\n",
       "    .dataframe tbody tr th:only-of-type {\n",
       "        vertical-align: middle;\n",
       "    }\n",
       "\n",
       "    .dataframe tbody tr th {\n",
       "        vertical-align: top;\n",
       "    }\n",
       "\n",
       "    .dataframe thead th {\n",
       "        text-align: right;\n",
       "    }\n",
       "</style>\n",
       "<table border=\"1\" class=\"dataframe\">\n",
       "  <thead>\n",
       "    <tr style=\"text-align: right;\">\n",
       "      <th></th>\n",
       "      <th>Country or Area</th>\n",
       "      <th>Year</th>\n",
       "      <th>Value</th>\n",
       "    </tr>\n",
       "  </thead>\n",
       "  <tbody>\n",
       "    <tr>\n",
       "      <th>1245</th>\n",
       "      <td>United States of America</td>\n",
       "      <td>1994</td>\n",
       "      <td>26070.978093</td>\n",
       "    </tr>\n",
       "    <tr>\n",
       "      <th>1246</th>\n",
       "      <td>United States of America</td>\n",
       "      <td>1993</td>\n",
       "      <td>27376.914814</td>\n",
       "    </tr>\n",
       "    <tr>\n",
       "      <th>1247</th>\n",
       "      <td>United States of America</td>\n",
       "      <td>1992</td>\n",
       "      <td>27828.740019</td>\n",
       "    </tr>\n",
       "    <tr>\n",
       "      <th>1248</th>\n",
       "      <td>United States of America</td>\n",
       "      <td>1991</td>\n",
       "      <td>27623.544686</td>\n",
       "    </tr>\n",
       "    <tr>\n",
       "      <th>1249</th>\n",
       "      <td>United States of America</td>\n",
       "      <td>1990</td>\n",
       "      <td>28845.725549</td>\n",
       "    </tr>\n",
       "  </tbody>\n",
       "</table>\n",
       "</div>"
      ],
      "text/plain": [
       "               Country or Area  Year         Value\n",
       "1245  United States of America  1994  26070.978093\n",
       "1246  United States of America  1993  27376.914814\n",
       "1247  United States of America  1992  27828.740019\n",
       "1248  United States of America  1991  27623.544686\n",
       "1249  United States of America  1990  28845.725549"
      ]
     },
     "execution_count": 39,
     "metadata": {},
     "output_type": "execute_result"
    }
   ],
   "source": [
    "sf6_df.tail(5)"
   ]
  },
  {
   "cell_type": "code",
   "execution_count": 40,
   "id": "0a3caf8c",
   "metadata": {},
   "outputs": [
    {
     "name": "stdout",
     "output_type": "stream",
     "text": [
      "Country or Area     object\n",
      "Year                 int64\n",
      "Value              float64\n",
      "dtype: object\n",
      "Country            object\n",
      "Year               object\n",
      "GDP_Per_Capita    float64\n",
      "dtype: object\n"
     ]
    }
   ],
   "source": [
    "print(sf6_df.dtypes)\n",
    "print(gdp_df.dtypes)"
   ]
  },
  {
   "cell_type": "markdown",
   "id": "5641d49c",
   "metadata": {},
   "source": [
    "Hmmm, not sure what the issue here is"
   ]
  },
  {
   "cell_type": "code",
   "execution_count": 41,
   "id": "a901f733",
   "metadata": {
    "scrolled": true
   },
   "outputs": [
    {
     "data": {
      "text/plain": [
       "0       2019\n",
       "1       2018\n",
       "2       2017\n",
       "3       2016\n",
       "4       2015\n",
       "        ... \n",
       "1245    1994\n",
       "1246    1993\n",
       "1247    1992\n",
       "1248    1991\n",
       "1249    1990\n",
       "Name: Year, Length: 1250, dtype: object"
      ]
     },
     "execution_count": 41,
     "metadata": {},
     "output_type": "execute_result"
    }
   ],
   "source": [
    "sf6_df = sf6_df.rename(columns={\"Country or Area\":\"Country\", \"Value\":\"SF6_Emissions\"})\n",
    "sf6_df['Year'].astype(object)"
   ]
  },
  {
   "cell_type": "code",
   "execution_count": 42,
   "id": "a36f7efb",
   "metadata": {},
   "outputs": [
    {
     "ename": "ValueError",
     "evalue": "You are trying to merge on object and int64 columns. If you wish to proceed you should use pd.concat",
     "output_type": "error",
     "traceback": [
      "\u001b[1;31m---------------------------------------------------------------------------\u001b[0m",
      "\u001b[1;31mValueError\u001b[0m                                Traceback (most recent call last)",
      "\u001b[1;32m~\\AppData\\Local\\Temp/ipykernel_6656/3704099786.py\u001b[0m in \u001b[0;36m<module>\u001b[1;34m\u001b[0m\n\u001b[1;32m----> 1\u001b[1;33m \u001b[0mgdp_internet_sf6_emissions\u001b[0m \u001b[1;33m=\u001b[0m \u001b[0mpd\u001b[0m\u001b[1;33m.\u001b[0m\u001b[0mmerge\u001b[0m\u001b[1;33m(\u001b[0m\u001b[0mgdp_and_internet_use\u001b[0m\u001b[1;33m,\u001b[0m \u001b[0msf6_df\u001b[0m\u001b[1;33m,\u001b[0m \u001b[0mon\u001b[0m\u001b[1;33m=\u001b[0m\u001b[1;33m[\u001b[0m\u001b[1;34m'Country'\u001b[0m\u001b[1;33m,\u001b[0m\u001b[1;34m'Year'\u001b[0m\u001b[1;33m]\u001b[0m\u001b[1;33m,\u001b[0m\u001b[0mhow\u001b[0m\u001b[1;33m=\u001b[0m\u001b[1;34m'outer'\u001b[0m\u001b[1;33m)\u001b[0m\u001b[1;33m\u001b[0m\u001b[1;33m\u001b[0m\u001b[0m\n\u001b[0m",
      "\u001b[1;32m~\\anaconda3\\lib\\site-packages\\pandas\\core\\reshape\\merge.py\u001b[0m in \u001b[0;36mmerge\u001b[1;34m(left, right, how, on, left_on, right_on, left_index, right_index, sort, suffixes, copy, indicator, validate)\u001b[0m\n\u001b[0;32m    104\u001b[0m     \u001b[0mvalidate\u001b[0m\u001b[1;33m:\u001b[0m \u001b[0mstr\u001b[0m \u001b[1;33m|\u001b[0m \u001b[1;32mNone\u001b[0m \u001b[1;33m=\u001b[0m \u001b[1;32mNone\u001b[0m\u001b[1;33m,\u001b[0m\u001b[1;33m\u001b[0m\u001b[1;33m\u001b[0m\u001b[0m\n\u001b[0;32m    105\u001b[0m ) -> DataFrame:\n\u001b[1;32m--> 106\u001b[1;33m     op = _MergeOperation(\n\u001b[0m\u001b[0;32m    107\u001b[0m         \u001b[0mleft\u001b[0m\u001b[1;33m,\u001b[0m\u001b[1;33m\u001b[0m\u001b[1;33m\u001b[0m\u001b[0m\n\u001b[0;32m    108\u001b[0m         \u001b[0mright\u001b[0m\u001b[1;33m,\u001b[0m\u001b[1;33m\u001b[0m\u001b[1;33m\u001b[0m\u001b[0m\n",
      "\u001b[1;32m~\\anaconda3\\lib\\site-packages\\pandas\\core\\reshape\\merge.py\u001b[0m in \u001b[0;36m__init__\u001b[1;34m(self, left, right, how, on, left_on, right_on, axis, left_index, right_index, sort, suffixes, copy, indicator, validate)\u001b[0m\n\u001b[0;32m    701\u001b[0m         \u001b[1;31m# validate the merge keys dtypes. We may need to coerce\u001b[0m\u001b[1;33m\u001b[0m\u001b[1;33m\u001b[0m\u001b[0m\n\u001b[0;32m    702\u001b[0m         \u001b[1;31m# to avoid incompatible dtypes\u001b[0m\u001b[1;33m\u001b[0m\u001b[1;33m\u001b[0m\u001b[0m\n\u001b[1;32m--> 703\u001b[1;33m         \u001b[0mself\u001b[0m\u001b[1;33m.\u001b[0m\u001b[0m_maybe_coerce_merge_keys\u001b[0m\u001b[1;33m(\u001b[0m\u001b[1;33m)\u001b[0m\u001b[1;33m\u001b[0m\u001b[1;33m\u001b[0m\u001b[0m\n\u001b[0m\u001b[0;32m    704\u001b[0m \u001b[1;33m\u001b[0m\u001b[0m\n\u001b[0;32m    705\u001b[0m         \u001b[1;31m# If argument passed to validate,\u001b[0m\u001b[1;33m\u001b[0m\u001b[1;33m\u001b[0m\u001b[0m\n",
      "\u001b[1;32m~\\anaconda3\\lib\\site-packages\\pandas\\core\\reshape\\merge.py\u001b[0m in \u001b[0;36m_maybe_coerce_merge_keys\u001b[1;34m(self)\u001b[0m\n\u001b[0;32m   1254\u001b[0m                     \u001b[0minferred_right\u001b[0m \u001b[1;32min\u001b[0m \u001b[0mstring_types\u001b[0m \u001b[1;32mand\u001b[0m \u001b[0minferred_left\u001b[0m \u001b[1;32mnot\u001b[0m \u001b[1;32min\u001b[0m \u001b[0mstring_types\u001b[0m\u001b[1;33m\u001b[0m\u001b[1;33m\u001b[0m\u001b[0m\n\u001b[0;32m   1255\u001b[0m                 ):\n\u001b[1;32m-> 1256\u001b[1;33m                     \u001b[1;32mraise\u001b[0m \u001b[0mValueError\u001b[0m\u001b[1;33m(\u001b[0m\u001b[0mmsg\u001b[0m\u001b[1;33m)\u001b[0m\u001b[1;33m\u001b[0m\u001b[1;33m\u001b[0m\u001b[0m\n\u001b[0m\u001b[0;32m   1257\u001b[0m \u001b[1;33m\u001b[0m\u001b[0m\n\u001b[0;32m   1258\u001b[0m             \u001b[1;31m# datetimelikes must match exactly\u001b[0m\u001b[1;33m\u001b[0m\u001b[1;33m\u001b[0m\u001b[0m\n",
      "\u001b[1;31mValueError\u001b[0m: You are trying to merge on object and int64 columns. If you wish to proceed you should use pd.concat"
     ]
    }
   ],
   "source": [
    "gdp_internet_sf6_emissions = pd.merge(gdp_and_internet_use, sf6_df, on=['Country','Year'],how='outer')"
   ]
  },
  {
   "cell_type": "code",
   "execution_count": null,
   "id": "65c9d790",
   "metadata": {},
   "outputs": [],
   "source": [
    "gdp_internet_sf6_emissions.head(5)"
   ]
  },
  {
   "cell_type": "code",
   "execution_count": null,
   "id": "12176b6c",
   "metadata": {},
   "outputs": [],
   "source": [
    "print(gdp_internet_sf6_emissions.nlargest(n=25, columns=['SF6_Emissions']))"
   ]
  },
  {
   "cell_type": "markdown",
   "id": "81bcc98e",
   "metadata": {},
   "source": [
    "THAT'S RIGHT WE'RE #1 BAYBEEEEEE"
   ]
  },
  {
   "cell_type": "code",
   "execution_count": null,
   "id": "c2264ec4",
   "metadata": {},
   "outputs": [],
   "source": [
    "print(gdp_internet_sf6_emissions.nlargest(n=10, columns=['SF6_Emissions']))"
   ]
  },
  {
   "cell_type": "code",
   "execution_count": null,
   "id": "c903b29c",
   "metadata": {},
   "outputs": [],
   "source": [
    "sf6_realyears = gdp_internet_sf6_emissions[gdp_internet_sf6_emissions['Year'].isin(['1999', '2000'])]"
   ]
  },
  {
   "cell_type": "code",
   "execution_count": null,
   "id": "759f995d",
   "metadata": {},
   "outputs": [],
   "source": [
    "print(sf6_realyears.nlargest(n=10, columns=['SF6_Emissions']))"
   ]
  },
  {
   "cell_type": "markdown",
   "id": "525e0be9",
   "metadata": {},
   "source": [
    "This is frustrating me why it's not quite merging correctly, but I feel find with how the data came together."
   ]
  }
 ],
 "metadata": {
  "kernelspec": {
   "display_name": "Python 3 (ipykernel)",
   "language": "python",
   "name": "python3"
  },
  "language_info": {
   "codemirror_mode": {
    "name": "ipython",
    "version": 3
   },
   "file_extension": ".py",
   "mimetype": "text/x-python",
   "name": "python",
   "nbconvert_exporter": "python",
   "pygments_lexer": "ipython3",
   "version": "3.9.7"
  }
 },
 "nbformat": 4,
 "nbformat_minor": 5
}
