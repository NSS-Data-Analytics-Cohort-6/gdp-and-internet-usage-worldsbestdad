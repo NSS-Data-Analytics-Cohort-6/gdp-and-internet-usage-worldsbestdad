{
 "cells": [
  {
   "cell_type": "code",
   "execution_count": 1,
   "id": "11b7f7bb",
   "metadata": {},
   "outputs": [],
   "source": [
    "#3. Import the required packages with their customary aliases as follows:\n",
    "import pandas as pd\n",
    "import numpy as np\n",
    "import matplotlib.pyplot as plt\n",
    "import seaborn as sns"
   ]
  },
  {
   "cell_type": "code",
   "execution_count": 2,
   "id": "1fbcb893",
   "metadata": {},
   "outputs": [],
   "source": [
    "#4. Use the %matplotlib inline magic command so that your plots show in the \n",
    "# notebook without having to call plt.show() every time.\n",
    "%matplotlib inline"
   ]
  },
  {
   "cell_type": "code",
   "execution_count": 3,
   "id": "f3dbe5b9",
   "metadata": {},
   "outputs": [],
   "source": [
    "#5. Using the pandas read_csv() method, read the GDP dataset into your notebook as a DataFrame called gdp_df. \n",
    "gdp_df = pd.read_csv(\"../data/gdp_percapita.csv\", nrows=6869)"
   ]
  },
  {
   "cell_type": "code",
   "execution_count": 4,
   "id": "d2d0d11c",
   "metadata": {},
   "outputs": [],
   "source": [
    "# 6. Repeat for the internet use dataset. Call this DataFrame internet_df.\n",
    "internet_df = pd.read_csv(\"../data/internet_use.csv\", nrows=4496)"
   ]
  },
  {
   "cell_type": "code",
   "execution_count": 5,
   "id": "b3ae7634",
   "metadata": {},
   "outputs": [
    {
     "data": {
      "text/html": [
       "<div>\n",
       "<style scoped>\n",
       "    .dataframe tbody tr th:only-of-type {\n",
       "        vertical-align: middle;\n",
       "    }\n",
       "\n",
       "    .dataframe tbody tr th {\n",
       "        vertical-align: top;\n",
       "    }\n",
       "\n",
       "    .dataframe thead th {\n",
       "        text-align: right;\n",
       "    }\n",
       "</style>\n",
       "<table border=\"1\" class=\"dataframe\">\n",
       "  <thead>\n",
       "    <tr style=\"text-align: right;\">\n",
       "      <th></th>\n",
       "      <th>Country or Area</th>\n",
       "      <th>Year</th>\n",
       "      <th>Value</th>\n",
       "      <th>Value Footnotes</th>\n",
       "    </tr>\n",
       "  </thead>\n",
       "  <tbody>\n",
       "    <tr>\n",
       "      <th>0</th>\n",
       "      <td>Afghanistan</td>\n",
       "      <td>2019</td>\n",
       "      <td>2065.036398</td>\n",
       "      <td>NaN</td>\n",
       "    </tr>\n",
       "    <tr>\n",
       "      <th>1</th>\n",
       "      <td>Afghanistan</td>\n",
       "      <td>2018</td>\n",
       "      <td>2033.779002</td>\n",
       "      <td>NaN</td>\n",
       "    </tr>\n",
       "    <tr>\n",
       "      <th>2</th>\n",
       "      <td>Afghanistan</td>\n",
       "      <td>2017</td>\n",
       "      <td>2058.383832</td>\n",
       "      <td>NaN</td>\n",
       "    </tr>\n",
       "    <tr>\n",
       "      <th>3</th>\n",
       "      <td>Afghanistan</td>\n",
       "      <td>2016</td>\n",
       "      <td>2057.062164</td>\n",
       "      <td>NaN</td>\n",
       "    </tr>\n",
       "    <tr>\n",
       "      <th>4</th>\n",
       "      <td>Afghanistan</td>\n",
       "      <td>2015</td>\n",
       "      <td>2068.265904</td>\n",
       "      <td>NaN</td>\n",
       "    </tr>\n",
       "    <tr>\n",
       "      <th>5</th>\n",
       "      <td>Afghanistan</td>\n",
       "      <td>2014</td>\n",
       "      <td>2102.385234</td>\n",
       "      <td>NaN</td>\n",
       "    </tr>\n",
       "  </tbody>\n",
       "</table>\n",
       "</div>"
      ],
      "text/plain": [
       "  Country or Area  Year        Value  Value Footnotes\n",
       "0     Afghanistan  2019  2065.036398              NaN\n",
       "1     Afghanistan  2018  2033.779002              NaN\n",
       "2     Afghanistan  2017  2058.383832              NaN\n",
       "3     Afghanistan  2016  2057.062164              NaN\n",
       "4     Afghanistan  2015  2068.265904              NaN\n",
       "5     Afghanistan  2014  2102.385234              NaN"
      ]
     },
     "execution_count": 5,
     "metadata": {},
     "output_type": "execute_result"
    }
   ],
   "source": [
    "# 5b. Take a look at the first 6 rows.\n",
    "gdp_df.head(6)"
   ]
  },
  {
   "cell_type": "code",
   "execution_count": 6,
   "id": "f9185537",
   "metadata": {},
   "outputs": [
    {
     "data": {
      "text/html": [
       "<div>\n",
       "<style scoped>\n",
       "    .dataframe tbody tr th:only-of-type {\n",
       "        vertical-align: middle;\n",
       "    }\n",
       "\n",
       "    .dataframe tbody tr th {\n",
       "        vertical-align: top;\n",
       "    }\n",
       "\n",
       "    .dataframe thead th {\n",
       "        text-align: right;\n",
       "    }\n",
       "</style>\n",
       "<table border=\"1\" class=\"dataframe\">\n",
       "  <thead>\n",
       "    <tr style=\"text-align: right;\">\n",
       "      <th></th>\n",
       "      <th>Country or Area</th>\n",
       "      <th>Year</th>\n",
       "      <th>Value</th>\n",
       "      <th>Value Footnotes</th>\n",
       "    </tr>\n",
       "  </thead>\n",
       "  <tbody>\n",
       "    <tr>\n",
       "      <th>0</th>\n",
       "      <td>Afghanistan</td>\n",
       "      <td>2014</td>\n",
       "      <td>6.390000</td>\n",
       "      <td>NaN</td>\n",
       "    </tr>\n",
       "    <tr>\n",
       "      <th>1</th>\n",
       "      <td>Afghanistan</td>\n",
       "      <td>2013</td>\n",
       "      <td>5.900000</td>\n",
       "      <td>NaN</td>\n",
       "    </tr>\n",
       "    <tr>\n",
       "      <th>2</th>\n",
       "      <td>Afghanistan</td>\n",
       "      <td>2012</td>\n",
       "      <td>5.454545</td>\n",
       "      <td>NaN</td>\n",
       "    </tr>\n",
       "    <tr>\n",
       "      <th>3</th>\n",
       "      <td>Afghanistan</td>\n",
       "      <td>2011</td>\n",
       "      <td>5.000000</td>\n",
       "      <td>NaN</td>\n",
       "    </tr>\n",
       "    <tr>\n",
       "      <th>4</th>\n",
       "      <td>Afghanistan</td>\n",
       "      <td>2010</td>\n",
       "      <td>4.000000</td>\n",
       "      <td>NaN</td>\n",
       "    </tr>\n",
       "    <tr>\n",
       "      <th>5</th>\n",
       "      <td>Afghanistan</td>\n",
       "      <td>2009</td>\n",
       "      <td>3.550000</td>\n",
       "      <td>NaN</td>\n",
       "    </tr>\n",
       "  </tbody>\n",
       "</table>\n",
       "</div>"
      ],
      "text/plain": [
       "  Country or Area  Year     Value  Value Footnotes\n",
       "0     Afghanistan  2014  6.390000              NaN\n",
       "1     Afghanistan  2013  5.900000              NaN\n",
       "2     Afghanistan  2012  5.454545              NaN\n",
       "3     Afghanistan  2011  5.000000              NaN\n",
       "4     Afghanistan  2010  4.000000              NaN\n",
       "5     Afghanistan  2009  3.550000              NaN"
      ]
     },
     "execution_count": 6,
     "metadata": {},
     "output_type": "execute_result"
    }
   ],
   "source": [
    "# 6b. Take a look at the first six rows.\n",
    "internet_df.head(6)"
   ]
  },
  {
   "cell_type": "markdown",
   "id": "c0adf83f",
   "metadata": {},
   "source": [
    "7. Look at the shape of each DataFrame - how many rows? How many columns?\n",
    "\n",
    "gdp_df 4 columns, 6869 rows\n",
    "internet_df 4 columns, 4496 columns\n",
    "gdp_df has 6873 rows, but the last 4 are just notation and footer so 6869 rows that are needed here.\n",
    "internet_df has 4688 rows but a lot of footer notes, so we cut those out to leave 4496 rows."
   ]
  },
  {
   "cell_type": "code",
   "execution_count": 7,
   "id": "e8719381",
   "metadata": {},
   "outputs": [
    {
     "name": "stdout",
     "output_type": "stream",
     "text": [
      "Country or Area     object\n",
      "Year                object\n",
      "Value              float64\n",
      "Value Footnotes    float64\n",
      "dtype: object\n",
      "Country or Area     object\n",
      "Year                object\n",
      "Value              float64\n",
      "Value Footnotes    float64\n",
      "dtype: object\n"
     ]
    }
   ],
   "source": [
    "# 8. Take a look at the datatypes for the columns in each DataFrame.\n",
    "print(gdp_df.dtypes)\n",
    "print(internet_df.dtypes)"
   ]
  },
  {
   "cell_type": "code",
   "execution_count": 8,
   "id": "4c7c5325",
   "metadata": {},
   "outputs": [
    {
     "name": "stdout",
     "output_type": "stream",
     "text": [
      "     Country or Area      Year        Value  Value Footnotes\n",
      "6859        Zimbabwe      1998  3653.920016              NaN\n",
      "6860        Zimbabwe      1997  3580.048793              NaN\n",
      "6861        Zimbabwe      1996  3520.430146              NaN\n",
      "6862        Zimbabwe      1995  3226.413930              NaN\n",
      "6863        Zimbabwe      1994  3263.934978              NaN\n",
      "6864        Zimbabwe      1993  3033.504852              NaN\n",
      "6865        Zimbabwe      1992  3054.889178              NaN\n",
      "6866        Zimbabwe      1991  3426.598094              NaN\n",
      "6867        Zimbabwe      1990  3324.348171              NaN\n",
      "6868   footnoteSeqID  Footnote          NaN              NaN\n",
      "     Country or Area      Year     Value  Value Footnotes\n",
      "4486        Zimbabwe      2001  0.799846              NaN\n",
      "4487        Zimbabwe      2000  0.401434              NaN\n",
      "4488        Zimbabwe      1999  0.161676              NaN\n",
      "4489        Zimbabwe      1998  0.081648              NaN\n",
      "4490        Zimbabwe      1997  0.033080              NaN\n",
      "4491        Zimbabwe      1996  0.016790              NaN\n",
      "4492        Zimbabwe      1995  0.007684              NaN\n",
      "4493        Zimbabwe      1994  0.001739              NaN\n",
      "4494        Zimbabwe      1990  0.000000              NaN\n",
      "4495   footnoteSeqID  Footnote       NaN              NaN\n"
     ]
    }
   ],
   "source": [
    "# 9. Take a look at the last 10 rows of each DataFrame in turn.\n",
    "print(gdp_df.tail(10))\n",
    "print(internet_df.tail(10))\n",
    "gdp_df = gdp_df.rename(columns={\"Country or Area\":\"Country\", \"Value\":\"GDP_Per_Capita\"})\n",
    "internet_df = internet_df.rename(columns={\"Country or Area\":\"Country\", \"Value\":\"Internet_Users_Pct\"})\n",
    "gdp_df = gdp_df.drop(columns=['Value Footnotes'])\n",
    "internet_df = internet_df.drop(columns=['Value Footnotes'])"
   ]
  },
  {
   "cell_type": "code",
   "execution_count": 9,
   "id": "8127199d",
   "metadata": {},
   "outputs": [],
   "source": [
    "gdp_and_internet_use = pd.merge(gdp_df, internet_df, on=['Country','Year'],how='outer')\n",
    "#gdp_and_internet_use = gdp_and_internet_use.fillna('')"
   ]
  },
  {
   "cell_type": "code",
   "execution_count": 10,
   "id": "c2832596",
   "metadata": {},
   "outputs": [
    {
     "name": "stdout",
     "output_type": "stream",
     "text": [
      "          Country  Year  GDP_Per_Capita  Internet_Users_Pct\n",
      "0     Afghanistan  2019     2065.036398                 NaN\n",
      "1     Afghanistan  2018     2033.779002                 NaN\n",
      "2     Afghanistan  2017     2058.383832                 NaN\n",
      "3     Afghanistan  2016     2057.062164                 NaN\n",
      "4     Afghanistan  2015     2068.265904                 NaN\n",
      "...           ...   ...             ...                 ...\n",
      "7901        Yemen  1999             NaN            0.056629\n",
      "7902        Yemen  1998             NaN            0.023323\n",
      "7903        Yemen  1997             NaN            0.015025\n",
      "7904        Yemen  1996             NaN            0.000621\n",
      "7905        Yemen  1990             NaN            0.000000\n",
      "\n",
      "[7906 rows x 4 columns]\n"
     ]
    }
   ],
   "source": [
    "print(gdp_and_internet_use)"
   ]
  },
  {
   "cell_type": "code",
   "execution_count": 11,
   "id": "0768aa75",
   "metadata": {},
   "outputs": [
    {
     "data": {
      "text/html": [
       "<div>\n",
       "<style scoped>\n",
       "    .dataframe tbody tr th:only-of-type {\n",
       "        vertical-align: middle;\n",
       "    }\n",
       "\n",
       "    .dataframe tbody tr th {\n",
       "        vertical-align: top;\n",
       "    }\n",
       "\n",
       "    .dataframe thead th {\n",
       "        text-align: right;\n",
       "    }\n",
       "</style>\n",
       "<table border=\"1\" class=\"dataframe\">\n",
       "  <thead>\n",
       "    <tr style=\"text-align: right;\">\n",
       "      <th></th>\n",
       "      <th>Country</th>\n",
       "      <th>Year</th>\n",
       "      <th>GDP_Per_Capita</th>\n",
       "      <th>Internet_Users_Pct</th>\n",
       "    </tr>\n",
       "  </thead>\n",
       "  <tbody>\n",
       "    <tr>\n",
       "      <th>0</th>\n",
       "      <td>Afghanistan</td>\n",
       "      <td>2019</td>\n",
       "      <td>2065.036398</td>\n",
       "      <td>NaN</td>\n",
       "    </tr>\n",
       "    <tr>\n",
       "      <th>1</th>\n",
       "      <td>Afghanistan</td>\n",
       "      <td>2018</td>\n",
       "      <td>2033.779002</td>\n",
       "      <td>NaN</td>\n",
       "    </tr>\n",
       "    <tr>\n",
       "      <th>2</th>\n",
       "      <td>Afghanistan</td>\n",
       "      <td>2017</td>\n",
       "      <td>2058.383832</td>\n",
       "      <td>NaN</td>\n",
       "    </tr>\n",
       "    <tr>\n",
       "      <th>3</th>\n",
       "      <td>Afghanistan</td>\n",
       "      <td>2016</td>\n",
       "      <td>2057.062164</td>\n",
       "      <td>NaN</td>\n",
       "    </tr>\n",
       "    <tr>\n",
       "      <th>4</th>\n",
       "      <td>Afghanistan</td>\n",
       "      <td>2015</td>\n",
       "      <td>2068.265904</td>\n",
       "      <td>NaN</td>\n",
       "    </tr>\n",
       "  </tbody>\n",
       "</table>\n",
       "</div>"
      ],
      "text/plain": [
       "       Country  Year  GDP_Per_Capita  Internet_Users_Pct\n",
       "0  Afghanistan  2019     2065.036398                 NaN\n",
       "1  Afghanistan  2018     2033.779002                 NaN\n",
       "2  Afghanistan  2017     2058.383832                 NaN\n",
       "3  Afghanistan  2016     2057.062164                 NaN\n",
       "4  Afghanistan  2015     2068.265904                 NaN"
      ]
     },
     "execution_count": 11,
     "metadata": {},
     "output_type": "execute_result"
    }
   ],
   "source": [
    "gdp_and_internet_use.head(5)"
   ]
  },
  {
   "cell_type": "code",
   "execution_count": 12,
   "id": "e263c289",
   "metadata": {},
   "outputs": [
    {
     "data": {
      "text/html": [
       "<div>\n",
       "<style scoped>\n",
       "    .dataframe tbody tr th:only-of-type {\n",
       "        vertical-align: middle;\n",
       "    }\n",
       "\n",
       "    .dataframe tbody tr th {\n",
       "        vertical-align: top;\n",
       "    }\n",
       "\n",
       "    .dataframe thead th {\n",
       "        text-align: right;\n",
       "    }\n",
       "</style>\n",
       "<table border=\"1\" class=\"dataframe\">\n",
       "  <thead>\n",
       "    <tr style=\"text-align: right;\">\n",
       "      <th></th>\n",
       "      <th>Country</th>\n",
       "      <th>Year</th>\n",
       "      <th>GDP_Per_Capita</th>\n",
       "      <th>Internet_Users_Pct</th>\n",
       "    </tr>\n",
       "  </thead>\n",
       "  <tbody>\n",
       "    <tr>\n",
       "      <th>7901</th>\n",
       "      <td>Yemen</td>\n",
       "      <td>1999</td>\n",
       "      <td>NaN</td>\n",
       "      <td>0.056629</td>\n",
       "    </tr>\n",
       "    <tr>\n",
       "      <th>7902</th>\n",
       "      <td>Yemen</td>\n",
       "      <td>1998</td>\n",
       "      <td>NaN</td>\n",
       "      <td>0.023323</td>\n",
       "    </tr>\n",
       "    <tr>\n",
       "      <th>7903</th>\n",
       "      <td>Yemen</td>\n",
       "      <td>1997</td>\n",
       "      <td>NaN</td>\n",
       "      <td>0.015025</td>\n",
       "    </tr>\n",
       "    <tr>\n",
       "      <th>7904</th>\n",
       "      <td>Yemen</td>\n",
       "      <td>1996</td>\n",
       "      <td>NaN</td>\n",
       "      <td>0.000621</td>\n",
       "    </tr>\n",
       "    <tr>\n",
       "      <th>7905</th>\n",
       "      <td>Yemen</td>\n",
       "      <td>1990</td>\n",
       "      <td>NaN</td>\n",
       "      <td>0.000000</td>\n",
       "    </tr>\n",
       "  </tbody>\n",
       "</table>\n",
       "</div>"
      ],
      "text/plain": [
       "     Country  Year  GDP_Per_Capita  Internet_Users_Pct\n",
       "7901   Yemen  1999             NaN            0.056629\n",
       "7902   Yemen  1998             NaN            0.023323\n",
       "7903   Yemen  1997             NaN            0.015025\n",
       "7904   Yemen  1996             NaN            0.000621\n",
       "7905   Yemen  1990             NaN            0.000000"
      ]
     },
     "execution_count": 12,
     "metadata": {},
     "output_type": "execute_result"
    }
   ],
   "source": [
    "gdp_and_internet_use.tail(5)"
   ]
  },
  {
   "cell_type": "code",
   "execution_count": 13,
   "id": "ee8c9bfc",
   "metadata": {},
   "outputs": [],
   "source": [
    "gdp_and_internet_use.drop(gdp_and_internet_use.tail(1).index,\n",
    "        inplace = True)"
   ]
  },
  {
   "cell_type": "code",
   "execution_count": 14,
   "id": "93b0d475",
   "metadata": {},
   "outputs": [
    {
     "data": {
      "text/html": [
       "<div>\n",
       "<style scoped>\n",
       "    .dataframe tbody tr th:only-of-type {\n",
       "        vertical-align: middle;\n",
       "    }\n",
       "\n",
       "    .dataframe tbody tr th {\n",
       "        vertical-align: top;\n",
       "    }\n",
       "\n",
       "    .dataframe thead th {\n",
       "        text-align: right;\n",
       "    }\n",
       "</style>\n",
       "<table border=\"1\" class=\"dataframe\">\n",
       "  <thead>\n",
       "    <tr style=\"text-align: right;\">\n",
       "      <th></th>\n",
       "      <th>Country</th>\n",
       "      <th>Year</th>\n",
       "      <th>GDP_Per_Capita</th>\n",
       "      <th>Internet_Users_Pct</th>\n",
       "    </tr>\n",
       "  </thead>\n",
       "  <tbody>\n",
       "    <tr>\n",
       "      <th>7900</th>\n",
       "      <td>Yemen</td>\n",
       "      <td>2000</td>\n",
       "      <td>NaN</td>\n",
       "      <td>0.082500</td>\n",
       "    </tr>\n",
       "    <tr>\n",
       "      <th>7901</th>\n",
       "      <td>Yemen</td>\n",
       "      <td>1999</td>\n",
       "      <td>NaN</td>\n",
       "      <td>0.056629</td>\n",
       "    </tr>\n",
       "    <tr>\n",
       "      <th>7902</th>\n",
       "      <td>Yemen</td>\n",
       "      <td>1998</td>\n",
       "      <td>NaN</td>\n",
       "      <td>0.023323</td>\n",
       "    </tr>\n",
       "    <tr>\n",
       "      <th>7903</th>\n",
       "      <td>Yemen</td>\n",
       "      <td>1997</td>\n",
       "      <td>NaN</td>\n",
       "      <td>0.015025</td>\n",
       "    </tr>\n",
       "    <tr>\n",
       "      <th>7904</th>\n",
       "      <td>Yemen</td>\n",
       "      <td>1996</td>\n",
       "      <td>NaN</td>\n",
       "      <td>0.000621</td>\n",
       "    </tr>\n",
       "  </tbody>\n",
       "</table>\n",
       "</div>"
      ],
      "text/plain": [
       "     Country  Year  GDP_Per_Capita  Internet_Users_Pct\n",
       "7900   Yemen  2000             NaN            0.082500\n",
       "7901   Yemen  1999             NaN            0.056629\n",
       "7902   Yemen  1998             NaN            0.023323\n",
       "7903   Yemen  1997             NaN            0.015025\n",
       "7904   Yemen  1996             NaN            0.000621"
      ]
     },
     "execution_count": 14,
     "metadata": {},
     "output_type": "execute_result"
    }
   ],
   "source": [
    "gdp_and_internet_use.tail(5)"
   ]
  },
  {
   "cell_type": "code",
   "execution_count": 15,
   "id": "88197cdd",
   "metadata": {},
   "outputs": [],
   "source": [
    "#gdp_and_internet_use_2009 = gdp_and_internet_use[gdp_and_internet_use['Year']=='2019'] We want 2004, 2009, and 2014\n",
    "#The below code breaks the kernel everytime lol, don't use it\n",
    "#gdpyears = np.logical_or(gdp_and_internet_use['Year'] == '2004', gdp_and_internet_use['Year'] == '2009', gdp_and_internet_use['Year'] == '2014')\n",
    "#gdprealyears = np.logical_or(gdpyears == 2004, gdpyears == 2009, gdpyears == 2014)\n",
    "#gdp_and_internet_use[gdp_and_internet_use[gdprealyears]]\n",
    "#s = df[df['color'].isin(['Yellow', 'Green'])]\n",
    "gdp_realyears = gdp_and_internet_use[gdp_and_internet_use['Year'].isin(['2004', '2009', '2014'])]\n",
    "gdp_int2004 = gdp_and_internet_use[gdp_and_internet_use['Year']=='2004']\n",
    "gdp_int2009 = gdp_and_internet_use[gdp_and_internet_use['Year']=='2009']\n",
    "gdp_int2014 = gdp_and_internet_use[gdp_and_internet_use['Year']=='2014']"
   ]
  },
  {
   "cell_type": "code",
   "execution_count": 16,
   "id": "e11d9024",
   "metadata": {},
   "outputs": [
    {
     "name": "stdout",
     "output_type": "stream",
     "text": [
      "                    Country  Year  GDP_Per_Capita  Internet_Users_Pct\n",
      "5               Afghanistan  2014     2102.385234            6.390000\n",
      "10              Afghanistan  2009     1758.904043            3.550000\n",
      "15              Afghanistan  2004     1200.278256            0.105809\n",
      "23                  Albania  2014    11623.866679           60.100000\n",
      "28                  Albania  2009    10346.864199           41.200000\n",
      "...                     ...   ...             ...                 ...\n",
      "7869  Virgin Islands (U.S.)  2009             NaN           27.396510\n",
      "7874  Virgin Islands (U.S.)  2004             NaN           27.377009\n",
      "7886                  Yemen  2014             NaN           22.550000\n",
      "7891                  Yemen  2009             NaN            9.960000\n",
      "7896                  Yemen  2004             NaN            0.881223\n",
      "\n",
      "[830 rows x 4 columns]\n"
     ]
    }
   ],
   "source": [
    "print(gdp_realyears)"
   ]
  },
  {
   "cell_type": "code",
   "execution_count": 17,
   "id": "06188f25",
   "metadata": {},
   "outputs": [
    {
     "name": "stdout",
     "output_type": "stream",
     "text": [
      "      Country  Year  GDP_Per_Capita  Internet_Users_Pct\n",
      "2625  Iceland  2014      49652.1495               98.16\n"
     ]
    }
   ],
   "source": [
    "#df.nlargest(n=5, columns=['Magnitude', 'Depth'])\n",
    "print(gdp_int2014.nlargest(n=1, columns=['Internet_Users_Pct']))\n",
    "#Iceland has the higest 2014 internet users at 96.18%"
   ]
  },
  {
   "cell_type": "code",
   "execution_count": 18,
   "id": "843e3f5f",
   "metadata": {},
   "outputs": [
    {
     "name": "stdout",
     "output_type": "stream",
     "text": [
      "     Country  Year  GDP_Per_Capita  Internet_Users_Pct\n",
      "6019  Sweden  2004    44496.023401               83.89\n",
      "      Country  Year  GDP_Per_Capita  Internet_Users_Pct\n",
      "2630  Iceland  2009    48177.084123                93.0\n"
     ]
    }
   ],
   "source": [
    "print(gdp_int2004.nlargest(n=1, columns=['Internet_Users_Pct']))\n",
    "print(gdp_int2009.nlargest(n=1, columns=['Internet_Users_Pct']))\n",
    "#Sweden in 2004 at 83.39%, Iceland in 2009 at 93%"
   ]
  },
  {
   "cell_type": "code",
   "execution_count": 19,
   "id": "443d8265",
   "metadata": {},
   "outputs": [
    {
     "name": "stdout",
     "output_type": "stream",
     "text": [
      "                          Country  Year  GDP_Per_Capita  Internet_Users_Pct\n",
      "7089  Dem. People's Rep. of Korea  2004             NaN                 0.0\n",
      "                          Country  Year  GDP_Per_Capita  Internet_Users_Pct\n",
      "7084  Dem. People's Rep. of Korea  2009             NaN                 0.0\n",
      "                          Country  Year  GDP_Per_Capita  Internet_Users_Pct\n",
      "7080  Dem. People's Rep. of Korea  2014             NaN                 0.0\n"
     ]
    }
   ],
   "source": [
    "print(gdp_int2004.nsmallest(n=1, columns=['Internet_Users_Pct']))\n",
    "print(gdp_int2009.nsmallest(n=1, columns=['Internet_Users_Pct']))\n",
    "print(gdp_int2014.nsmallest(n=1, columns=['Internet_Users_Pct']))\n",
    "#Looks like The good ol' North Korea is crushing it on internet percentage\n",
    "#Look at .sort to see if you could use this instead! .sort_values(by='column', ascending=False)"
   ]
  },
  {
   "cell_type": "code",
   "execution_count": 20,
   "id": "e582de06",
   "metadata": {},
   "outputs": [
    {
     "name": "stdout",
     "output_type": "stream",
     "text": [
      "               Country  Year  GDP_Per_Capita  Internet_Users_Pct\n",
      "3721  Macao SAR, China  2014    156514.13385                 NaN\n",
      "                       Country  Year  GDP_Per_Capita  Internet_Users_Pct\n",
      "1047  Central African Republic  2014      822.610458                 NaN\n"
     ]
    }
   ],
   "source": [
    "print(gdp_int2014.nlargest(n=1, columns=['GDP_Per_Capita']))\n",
    "print(gdp_int2014.nsmallest(n=1, columns=['GDP_Per_Capita']))\n",
    "#Macao SAR(???) with the highest GDP_Per_Capita as 108,761 (Dollars? Idk what currency this is in)\n",
    "#Central African Republic has the lowest GDP_Per_Capita at 886."
   ]
  },
  {
   "cell_type": "code",
   "execution_count": 21,
   "id": "73d7feee",
   "metadata": {},
   "outputs": [
    {
     "data": {
      "text/plain": [
       "Text(0.5, 1.0, '2004')"
      ]
     },
     "execution_count": 21,
     "metadata": {},
     "output_type": "execute_result"
    },
    {
     "data": {
      "image/png": "[encoded data removed]",
      "text/plain": [
       "<Figure size 432x288 with 1 Axes>"
      ]
     },
     "metadata": {
      "needs_background": "light"
     },
     "output_type": "display_data"
    }
   ],
   "source": [
    "#a. 2004 Percent Using the Internet vs GDP Per Capita\n",
    "#b. 2009 Percent Using the Internet vs GDP Per Capita\n",
    "#c. 2014 Percent Using the Internet vs GDP Per Capita\n",
    "plt.scatter(gdp_int2004['Internet_Users_Pct'], gdp_int2004['GDP_Per_Capita'])\n",
    "plt.ylabel('GDP Per Capita')\n",
    "plt.xlabel('Pct of Internet Users')\n",
    "plt.title('2004')"
   ]
  },
  {
   "cell_type": "code",
   "execution_count": 22,
   "id": "92d3118e",
   "metadata": {},
   "outputs": [
    {
     "data": {
      "text/plain": [
       "Text(0.5, 1.0, '2009')"
      ]
     },
     "execution_count": 22,
     "metadata": {},
     "output_type": "execute_result"
    },
    {
     "data": {
      "image/png": "[encoded data removed]",
      "text/plain": [
       "<Figure size 432x288 with 1 Axes>"
      ]
     },
     "metadata": {
      "needs_background": "light"
     },
     "output_type": "display_data"
    }
   ],
   "source": [
    "plt.scatter(gdp_int2009['Internet_Users_Pct'], gdp_int2009['GDP_Per_Capita'])\n",
    "plt.ylabel('GDP Per Capita')\n",
    "plt.xlabel('Pct of Internet Users')\n",
    "plt.title('2009')"
   ]
  },
  {
   "cell_type": "code",
   "execution_count": 23,
   "id": "5b4e15b0",
   "metadata": {},
   "outputs": [
    {
     "data": {
      "text/plain": [
       "Text(0.5, 1.0, '2014')"
      ]
     },
     "execution_count": 23,
     "metadata": {},
     "output_type": "execute_result"
    },
    {
     "data": {
      "image/png": "[encoded data removed]",
      "text/plain": [
       "<Figure size 432x288 with 1 Axes>"
      ]
     },
     "metadata": {
      "needs_background": "light"
     },
     "output_type": "display_data"
    }
   ],
   "source": [
    "plt.scatter(gdp_int2014['Internet_Users_Pct'], gdp_int2014['GDP_Per_Capita'])\n",
    "plt.ylabel('GDP Per Capita')\n",
    "plt.xlabel('Pct of Internet Users')\n",
    "plt.title('2014')"
   ]
  },
  {
   "cell_type": "code",
   "execution_count": 24,
   "id": "a013bdfa",
   "metadata": {},
   "outputs": [
    {
     "data": {
      "text/plain": [
       "(array([31., 31., 12., 10., 24., 18., 21., 20., 18., 17.]),\n",
       " array([ 0.   ,  9.816, 19.632, 29.448, 39.264, 49.08 , 58.896, 68.712,\n",
       "        78.528, 88.344, 98.16 ]),\n",
       " <BarContainer object of 10 artists>)"
      ]
     },
     "execution_count": 24,
     "metadata": {},
     "output_type": "execute_result"
    },
    {
     "data": {
      "image/png": "[encoded data removed]",
      "text/plain": [
       "<Figure size 432x288 with 1 Axes>"
      ]
     },
     "metadata": {
      "needs_background": "light"
     },
     "output_type": "display_data"
    }
   ],
   "source": [
    "plt.hist(gdp_int2014['Internet_Users_Pct'])"
   ]
  },
  {
   "cell_type": "code",
   "execution_count": 25,
   "id": "7b05dc0b",
   "metadata": {},
   "outputs": [
    {
     "data": {
      "text/plain": [
       "(array([146.,  41.,  25.,  18.,   4.,   1.,   2.,   0.,   0.,   1.]),\n",
       " array([   822.61045782,  16391.76279701,  31960.91513621,  47530.06747541,\n",
       "         63099.2198146 ,  78668.3721538 ,  94237.524493  , 109806.67683219,\n",
       "        125375.82917139, 140944.98151059, 156514.13384978]),\n",
       " <BarContainer object of 10 artists>)"
      ]
     },
     "execution_count": 25,
     "metadata": {},
     "output_type": "execute_result"
    },
    {
     "data": {
      "image/png": "[encoded data removed]",
      "text/plain": [
       "<Figure size 432x288 with 1 Axes>"
      ]
     },
     "metadata": {
      "needs_background": "light"
     },
     "output_type": "display_data"
    }
   ],
   "source": [
    "plt.hist(gdp_int2014['GDP_Per_Capita'])"
   ]
  },
  {
   "cell_type": "markdown",
   "id": "0d5e2a47",
   "metadata": {},
   "source": [
    "Array of integers is unimodal, if:\n",
    "\n",
    "-it is strictly increasing in the beginning;\n",
    "\n",
    "-after that it is constant;\n",
    "\n",
    "-after that it is strictly decreasing.\n",
    "\n",
    "Ok yeah, all of these are looking pretty darn unimodal to me! Especially in 2009 & 2014, 2004 was pretty early on.\n"
   ]
  },
  {
   "cell_type": "code",
   "execution_count": 26,
   "id": "ca6cc044",
   "metadata": {
    "scrolled": true
   },
   "outputs": [
    {
     "name": "stdout",
     "output_type": "stream",
     "text": [
      "      Country  Year  GDP_Per_Capita  Internet_Users_Pct\n",
      "2625  Iceland  2014    49652.149500               98.16\n",
      "561   Bermuda  2014    77361.104881               96.80\n",
      "4648   Norway  2014    62589.373548               96.30\n",
      "1452  Denmark  2014    52214.537753               95.99\n",
      "6872  Andorra  2014             NaN               95.90\n"
     ]
    }
   ],
   "source": [
    "gpd_int2014topinternet = gdp_int2014.nlargest(n=5, columns=['Internet_Users_Pct'])\n",
    "print(gpd_int2014topinternet)\n",
    "top_5_internet = gdp_realyears[gdp_realyears['Country'].isin(gpd_int2014topinternet['Country'])]"
   ]
  },
  {
   "cell_type": "markdown",
   "id": "f150945a",
   "metadata": {},
   "source": [
    "Create a DataFrame called top_5_internet from the combined DataFrame that has all three years for the 5 countries that had the greatest 2014 internet usage. You should have 15 rows. Check that this is true."
   ]
  },
  {
   "cell_type": "markdown",
   "id": "1a9de9e0",
   "metadata": {},
   "source": [
    "This top_5_internet works really well!!!"
   ]
  },
  {
   "cell_type": "code",
   "execution_count": 27,
   "id": "5ff5bd0c",
   "metadata": {},
   "outputs": [
    {
     "name": "stdout",
     "output_type": "stream",
     "text": [
      "      Country  Year  GDP_Per_Capita  Internet_Users_Pct\n",
      "561   Bermuda  2014    77361.104881           96.800000\n",
      "566   Bermuda  2009    89961.982744           83.250000\n",
      "571   Bermuda  2004    90195.811033           60.990867\n",
      "1452  Denmark  2014    52214.537753           95.990000\n",
      "1457  Denmark  2009    50274.075696           86.840000\n",
      "1462  Denmark  2004    50607.628971           80.930000\n",
      "2625  Iceland  2014    49652.149500           98.160000\n",
      "2630  Iceland  2009    48177.084123           93.000000\n",
      "2635  Iceland  2004    45145.545658           83.880000\n",
      "4648   Norway  2014    62589.373548           96.300000\n",
      "4653   Norway  2009    61886.564498           92.080000\n",
      "4658   Norway  2004    60893.410993           77.690000\n",
      "6872  Andorra  2014             NaN           95.900000\n",
      "6877  Andorra  2009             NaN           78.530000\n",
      "6882  Andorra  2004             NaN           26.837954\n"
     ]
    }
   ],
   "source": [
    "print(top_5_internet)"
   ]
  },
  {
   "cell_type": "markdown",
   "id": "53bb4b73",
   "metadata": {},
   "source": [
    "Andorra really flew up the list in the 10 year span, gaining ~35% of the total population in internet users in the time frame"
   ]
  },
  {
   "cell_type": "markdown",
   "id": "d8ca3b21",
   "metadata": {},
   "source": [
    "g = sns.FacetGrid(df, col = \"Product\", row = 'Day')\n",
    "\n",
    "Create a seaborn FacetGrid to show the internet usage trend across the years 2004, 2009, and 2014 for these 5 countries (those with the highest reported internet use in 2014). Which country had the greatest growth between 2004 and 2014?"
   ]
  },
  {
   "cell_type": "code",
   "execution_count": 28,
   "id": "2e6d9124",
   "metadata": {},
   "outputs": [
    {
     "data": {
      "text/plain": [
       "<seaborn.axisgrid.FacetGrid at 0x278b947cca0>"
      ]
     },
     "execution_count": 28,
     "metadata": {},
     "output_type": "execute_result"
    },
    {
     "data": {
      "image/png": "[encoded data removed]",
      "text/plain": [
       "<Figure size 297.875x216 with 1 Axes>"
      ]
     },
     "metadata": {
      "needs_background": "light"
     },
     "output_type": "display_data"
    }
   ],
   "source": [
    "grid = sns.FacetGrid(top_5_internet, hue = \"Country\")\n",
    "grid.map(sns.lineplot, 'Year', 'Internet_Users_Pct')\n",
    "#grid.xticks('2004','2009','2014')\n",
    "grid.add_legend()\n",
    "#This works for now, but I want to move the year to a different order"
   ]
  },
  {
   "cell_type": "markdown",
   "id": "b3700d8b",
   "metadata": {},
   "source": [
    "Repeat the steps above to look at the trend for the 5 countries with the lowest 2014 internet usage. Which country has consistently had the least internet use?"
   ]
  },
  {
   "cell_type": "code",
   "execution_count": 29,
   "id": "da68c8f8",
   "metadata": {},
   "outputs": [
    {
     "name": "stdout",
     "output_type": "stream",
     "text": [
      "                          Country  Year  GDP_Per_Capita  Internet_Users_Pct\n",
      "7080  Dem. People's Rep. of Korea  2014             NaN                0.00\n",
      "7138                      Eritrea  2014             NaN                0.99\n",
      "6219                  Timor-Leste  2014     3264.568070                1.14\n",
      "827                       Burundi  2014      886.235777                1.38\n",
      "7675                      Somalia  2014             NaN                1.63\n"
     ]
    }
   ],
   "source": [
    "gpd_int2014bottominternet = gdp_int2014.nsmallest(n=5, columns=['Internet_Users_Pct'])\n",
    "print(gpd_int2014bottominternet)\n",
    "bottom_5_internet = gdp_realyears[gdp_realyears['Country'].isin(gpd_int2014bottominternet['Country'])]"
   ]
  },
  {
   "cell_type": "code",
   "execution_count": 30,
   "id": "8d16ebb7",
   "metadata": {},
   "outputs": [
    {
     "data": {
      "text/plain": [
       "<seaborn.axisgrid.FacetGrid at 0x278b9f94d60>"
      ]
     },
     "execution_count": 30,
     "metadata": {},
     "output_type": "execute_result"
    },
    {
     "data": {
      "image/png": "[encoded data removed]",
      "text/plain": [
       "<Figure size 392.125x216 with 1 Axes>"
      ]
     },
     "metadata": {
      "needs_background": "light"
     },
     "output_type": "display_data"
    }
   ],
   "source": [
    "grid = sns.FacetGrid(bottom_5_internet, hue = \"Country\")\n",
    "grid.map(sns.lineplot, 'Year', 'Internet_Users_Pct')\n",
    "grid.add_legend()"
   ]
  },
  {
   "cell_type": "markdown",
   "id": "c6e1b9d7",
   "metadata": {},
   "source": [
    "Find the top 5 countries for 2014 in terms of GDP per capita; create a DataFrame to look at 10-year trends (use 2004, 2009, 2014 to look at the 10-year trend) in gdp per capita for the 5 countries with the highest 2014 GDP per capita. Use a seaborn facet grid for this."
   ]
  },
  {
   "cell_type": "code",
   "execution_count": 31,
   "id": "f85150b8",
   "metadata": {},
   "outputs": [
    {
     "name": "stdout",
     "output_type": "stream",
     "text": [
      "               Country  Year  GDP_Per_Capita  Internet_Users_Pct\n",
      "3721  Macao SAR, China  2014   156514.133850                 NaN\n",
      "3691        Luxembourg  2014   108760.916030               94.67\n",
      "5138             Qatar  2014    95578.416973               91.49\n",
      "5464         Singapore  2014    87808.663157               82.00\n",
      "561            Bermuda  2014    77361.104881               96.80\n"
     ]
    },
    {
     "data": {
      "text/plain": [
       "<seaborn.axisgrid.FacetGrid at 0x278ba014c70>"
      ]
     },
     "execution_count": 31,
     "metadata": {},
     "output_type": "execute_result"
    },
    {
     "data": {
      "image/png": "[encoded data removed]",
      "text/plain": [
       "<Figure size 342.5x216 with 1 Axes>"
      ]
     },
     "metadata": {
      "needs_background": "light"
     },
     "output_type": "display_data"
    }
   ],
   "source": [
    "print(gdp_int2014.nlargest(n=5, columns=['GDP_Per_Capita']))\n",
    "gdp_int2014topgdp = gdp_int2014.nlargest(n=5, columns=['GDP_Per_Capita'])\n",
    "top_5_GDP = gdp_realyears[gdp_realyears['Country'].isin(gdp_int2014topgdp['Country'])]\n",
    "grid = sns.FacetGrid(top_5_GDP, hue = \"Country\")\n",
    "grid.map(sns.lineplot, 'Year', 'GDP_Per_Capita')\n",
    "grid.add_legend()"
   ]
  },
  {
   "cell_type": "markdown",
   "id": "455abcff",
   "metadata": {},
   "source": [
    "Repeat this one more time to look at 10-year trend for the 5 countries for 2014 with the lowest GDP per capita."
   ]
  },
  {
   "cell_type": "code",
   "execution_count": 32,
   "id": "19f8131b",
   "metadata": {},
   "outputs": [
    {
     "name": "stdout",
     "output_type": "stream",
     "text": [
      "                       Country  Year  GDP_Per_Capita  Internet_Users_Pct\n",
      "1047  Central African Republic  2014      822.610458                 NaN\n",
      "827                    Burundi  2014      886.235777                1.38\n",
      "3781                    Malawi  2014     1027.208496                5.83\n",
      "1422           Dem. Rep. Congo  2014     1029.790785                 NaN\n",
      "4528                     Niger  2014     1127.615541                1.95\n"
     ]
    },
    {
     "data": {
      "text/plain": [
       "<seaborn.axisgrid.FacetGrid at 0x278b9d3d1f0>"
      ]
     },
     "execution_count": 32,
     "metadata": {},
     "output_type": "execute_result"
    },
    {
     "data": {
      "image/png": "[encoded data removed]",
      "text/plain": [
       "<Figure size 372.375x216 with 1 Axes>"
      ]
     },
     "metadata": {
      "needs_background": "light"
     },
     "output_type": "display_data"
    }
   ],
   "source": [
    "print(gdp_int2014.nsmallest(n=5, columns=['GDP_Per_Capita']))\n",
    "gdp_int2014bottomgdp = gdp_int2014.nsmallest(n=5, columns=['GDP_Per_Capita'])\n",
    "bottom_5_GDP = gdp_realyears[gdp_realyears['Country'].isin(gdp_int2014bottomgdp['Country'])]\n",
    "grid = sns.FacetGrid(bottom_5_GDP, hue = \"Country\")\n",
    "grid.map(sns.lineplot, 'Year', 'GDP_Per_Capita')\n",
    "grid.add_legend()"
   ]
  },
  {
   "cell_type": "markdown",
   "id": "3850ecc8",
   "metadata": {},
   "source": [
    "Is there anything surprising or unusual in any of these plots? Searching on the internet, can you find any possible explanations for unusual findings?"
   ]
  },
  {
   "cell_type": "code",
   "execution_count": null,
   "id": "a91c29b7",
   "metadata": {},
   "outputs": [],
   "source": []
  }
 ],
 "metadata": {
  "kernelspec": {
   "display_name": "Python 3 (ipykernel)",
   "language": "python",
   "name": "python3"
  },
  "language_info": {
   "codemirror_mode": {
    "name": "ipython",
    "version": 3
   },
   "file_extension": ".py",
   "mimetype": "text/x-python",
   "name": "python",
   "nbconvert_exporter": "python",
   "pygments_lexer": "ipython3",
   "version": "3.9.7"
  }
 },
 "nbformat": 4,
 "nbformat_minor": 5
}
