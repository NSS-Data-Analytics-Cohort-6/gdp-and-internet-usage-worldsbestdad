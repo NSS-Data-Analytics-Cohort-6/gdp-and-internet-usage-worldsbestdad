{
 "cells": [
  {
   "cell_type": "code",
   "execution_count": 2,
   "id": "34ab8635",
   "metadata": {},
   "outputs": [],
   "source": [
    "import pandas as pd\n",
    "import numpy as np\n",
    "import matplotlib.pyplot as plt\n",
    "import seaborn as sns"
   ]
  },
  {
   "cell_type": "code",
   "execution_count": 3,
   "id": "1fbcb893",
   "metadata": {},
   "outputs": [],
   "source": [
    "%matplotlib inline"
   ]
  },
  {
   "cell_type": "code",
   "execution_count": 27,
   "id": "f3dbe5b9",
   "metadata": {},
   "outputs": [],
   "source": [
    "gdp_df = pd.read_csv(\"../data/gdp_percapita.csv\", nrows=6869)"
   ]
  },
  {
   "cell_type": "code",
   "execution_count": 25,
   "id": "d2d0d11c",
   "metadata": {},
   "outputs": [],
   "source": [
    "internet_df = pd.read_csv(\"../data/internet_use.csv\", nrows=4496)"
   ]
  },
  {
   "cell_type": "code",
   "execution_count": 32,
   "id": "b3ae7634",
   "metadata": {},
   "outputs": [
    {
     "data": {
      "text/html": [
       "<div>\n",
       "<style scoped>\n",
       "    .dataframe tbody tr th:only-of-type {\n",
       "        vertical-align: middle;\n",
       "    }\n",
       "\n",
       "    .dataframe tbody tr th {\n",
       "        vertical-align: top;\n",
       "    }\n",
       "\n",
       "    .dataframe thead th {\n",
       "        text-align: right;\n",
       "    }\n",
       "</style>\n",
       "<table border=\"1\" class=\"dataframe\">\n",
       "  <thead>\n",
       "    <tr style=\"text-align: right;\">\n",
       "      <th></th>\n",
       "      <th>Country or Area</th>\n",
       "      <th>Year</th>\n",
       "      <th>Value</th>\n",
       "      <th>Value Footnotes</th>\n",
       "    </tr>\n",
       "  </thead>\n",
       "  <tbody>\n",
       "    <tr>\n",
       "      <th>0</th>\n",
       "      <td>Afghanistan</td>\n",
       "      <td>2019</td>\n",
       "      <td>2065.036398</td>\n",
       "      <td>NaN</td>\n",
       "    </tr>\n",
       "    <tr>\n",
       "      <th>1</th>\n",
       "      <td>Afghanistan</td>\n",
       "      <td>2018</td>\n",
       "      <td>2033.779002</td>\n",
       "      <td>NaN</td>\n",
       "    </tr>\n",
       "    <tr>\n",
       "      <th>2</th>\n",
       "      <td>Afghanistan</td>\n",
       "      <td>2017</td>\n",
       "      <td>2058.383832</td>\n",
       "      <td>NaN</td>\n",
       "    </tr>\n",
       "    <tr>\n",
       "      <th>3</th>\n",
       "      <td>Afghanistan</td>\n",
       "      <td>2016</td>\n",
       "      <td>2057.062164</td>\n",
       "      <td>NaN</td>\n",
       "    </tr>\n",
       "    <tr>\n",
       "      <th>4</th>\n",
       "      <td>Afghanistan</td>\n",
       "      <td>2015</td>\n",
       "      <td>2068.265904</td>\n",
       "      <td>NaN</td>\n",
       "    </tr>\n",
       "    <tr>\n",
       "      <th>5</th>\n",
       "      <td>Afghanistan</td>\n",
       "      <td>2014</td>\n",
       "      <td>2102.385234</td>\n",
       "      <td>NaN</td>\n",
       "    </tr>\n",
       "  </tbody>\n",
       "</table>\n",
       "</div>"
      ],
      "text/plain": [
       "  Country or Area  Year        Value  Value Footnotes\n",
       "0     Afghanistan  2019  2065.036398              NaN\n",
       "1     Afghanistan  2018  2033.779002              NaN\n",
       "2     Afghanistan  2017  2058.383832              NaN\n",
       "3     Afghanistan  2016  2057.062164              NaN\n",
       "4     Afghanistan  2015  2068.265904              NaN\n",
       "5     Afghanistan  2014  2102.385234              NaN"
      ]
     },
     "execution_count": 32,
     "metadata": {},
     "output_type": "execute_result"
    }
   ],
   "source": [
    "gdp_df.head(6)"
   ]
  },
  {
   "cell_type": "code",
   "execution_count": 29,
   "id": "77f22abf",
   "metadata": {},
   "outputs": [
    {
     "data": {
      "text/html": [
       "<div>\n",
       "<style scoped>\n",
       "    .dataframe tbody tr th:only-of-type {\n",
       "        vertical-align: middle;\n",
       "    }\n",
       "\n",
       "    .dataframe tbody tr th {\n",
       "        vertical-align: top;\n",
       "    }\n",
       "\n",
       "    .dataframe thead th {\n",
       "        text-align: right;\n",
       "    }\n",
       "</style>\n",
       "<table border=\"1\" class=\"dataframe\">\n",
       "  <thead>\n",
       "    <tr style=\"text-align: right;\">\n",
       "      <th></th>\n",
       "      <th>Country or Area</th>\n",
       "      <th>Year</th>\n",
       "      <th>Value</th>\n",
       "      <th>Value Footnotes</th>\n",
       "    </tr>\n",
       "  </thead>\n",
       "  <tbody>\n",
       "    <tr>\n",
       "      <th>0</th>\n",
       "      <td>Afghanistan</td>\n",
       "      <td>2014</td>\n",
       "      <td>6.390000</td>\n",
       "      <td>NaN</td>\n",
       "    </tr>\n",
       "    <tr>\n",
       "      <th>1</th>\n",
       "      <td>Afghanistan</td>\n",
       "      <td>2013</td>\n",
       "      <td>5.900000</td>\n",
       "      <td>NaN</td>\n",
       "    </tr>\n",
       "    <tr>\n",
       "      <th>2</th>\n",
       "      <td>Afghanistan</td>\n",
       "      <td>2012</td>\n",
       "      <td>5.454545</td>\n",
       "      <td>NaN</td>\n",
       "    </tr>\n",
       "    <tr>\n",
       "      <th>3</th>\n",
       "      <td>Afghanistan</td>\n",
       "      <td>2011</td>\n",
       "      <td>5.000000</td>\n",
       "      <td>NaN</td>\n",
       "    </tr>\n",
       "    <tr>\n",
       "      <th>4</th>\n",
       "      <td>Afghanistan</td>\n",
       "      <td>2010</td>\n",
       "      <td>4.000000</td>\n",
       "      <td>NaN</td>\n",
       "    </tr>\n",
       "    <tr>\n",
       "      <th>5</th>\n",
       "      <td>Afghanistan</td>\n",
       "      <td>2009</td>\n",
       "      <td>3.550000</td>\n",
       "      <td>NaN</td>\n",
       "    </tr>\n",
       "  </tbody>\n",
       "</table>\n",
       "</div>"
      ],
      "text/plain": [
       "  Country or Area  Year     Value  Value Footnotes\n",
       "0     Afghanistan  2014  6.390000              NaN\n",
       "1     Afghanistan  2013  5.900000              NaN\n",
       "2     Afghanistan  2012  5.454545              NaN\n",
       "3     Afghanistan  2011  5.000000              NaN\n",
       "4     Afghanistan  2010  4.000000              NaN\n",
       "5     Afghanistan  2009  3.550000              NaN"
      ]
     },
     "execution_count": 29,
     "metadata": {},
     "output_type": "execute_result"
    }
   ],
   "source": [
    "internet_df.head(6)"
   ]
  },
  {
   "cell_type": "markdown",
   "id": "4c9cb902",
   "metadata": {},
   "source": [
    "gdp_df 4 columns, 6869 rows\n",
    "internet_df 4 columns, 4496 columns\n",
    "gdp_df has 6873 rows, but the last 4 are just notation and footer so 6869 rows that are needed here.\n",
    "internet_df has 4688 rows but a lot of footer notes, so we cut those out to leave 4496 rows."
   ]
  },
  {
   "cell_type": "code",
   "execution_count": 49,
   "id": "d1a2ee22",
   "metadata": {},
   "outputs": [
    {
     "name": "stdout",
     "output_type": "stream",
     "text": [
      "Country or Area     object\n",
      "Year                object\n",
      "Value              float64\n",
      "Value Footnotes    float64\n",
      "dtype: object\n",
      "Country or Area     object\n",
      "Year                object\n",
      "Value              float64\n",
      "Value Footnotes    float64\n",
      "dtype: object\n"
     ]
    }
   ],
   "source": [
    "print(gdp_df.dtypes)\n",
    "print(internet_df.dtypes)"
   ]
  },
  {
   "cell_type": "code",
   "execution_count": 51,
   "id": "8891a248",
   "metadata": {},
   "outputs": [],
   "source": [
    "gdp_dfr = gdp_df.rename(columns={\"Country or Area\":\"Country\", \"Value\":\"GDP_Per_Capita\"})\n",
    "internet_dfr = internet_df.rename(columns={\"Country or Area\":\"Country\", \"Value\":\"Internet_Users_Pct\"})\n",
    "del gdp_dfr['Value Footnotes']\n",
    "del internet_dfr['Value Footnotes']"
   ]
  },
  {
   "cell_type": "code",
   "execution_count": 52,
   "id": "5886e6af",
   "metadata": {},
   "outputs": [],
   "source": [
    "gdp_and_internet_use = pd.merge(gdp_dfr, internet_dfr)"
   ]
  },
  {
   "cell_type": "code",
   "execution_count": 53,
   "id": "ed30aecf",
   "metadata": {},
   "outputs": [
    {
     "name": "stdout",
     "output_type": "stream",
     "text": [
      "            Country      Year  GDP_Per_Capita  Internet_Users_Pct\n",
      "0       Afghanistan      2014     2102.385234            6.390000\n",
      "1       Afghanistan      2013     2116.465454            5.900000\n",
      "2       Afghanistan      2012     2075.491747            5.454545\n",
      "3       Afghanistan      2011     1904.559799            5.000000\n",
      "4       Afghanistan      2010     1957.029338            4.000000\n",
      "...             ...       ...             ...                 ...\n",
      "3454       Zimbabwe      1996     3520.430146            0.016790\n",
      "3455       Zimbabwe      1995     3226.413930            0.007684\n",
      "3456       Zimbabwe      1994     3263.934978            0.001739\n",
      "3457       Zimbabwe      1990     3324.348171            0.000000\n",
      "3458  footnoteSeqID  Footnote             NaN                 NaN\n",
      "\n",
      "[3459 rows x 4 columns]\n"
     ]
    }
   ],
   "source": [
    "print(gdp_and_internet_use)"
   ]
  },
  {
   "cell_type": "code",
   "execution_count": 54,
   "id": "55881bec",
   "metadata": {},
   "outputs": [
    {
     "data": {
      "text/html": [
       "<div>\n",
       "<style scoped>\n",
       "    .dataframe tbody tr th:only-of-type {\n",
       "        vertical-align: middle;\n",
       "    }\n",
       "\n",
       "    .dataframe tbody tr th {\n",
       "        vertical-align: top;\n",
       "    }\n",
       "\n",
       "    .dataframe thead th {\n",
       "        text-align: right;\n",
       "    }\n",
       "</style>\n",
       "<table border=\"1\" class=\"dataframe\">\n",
       "  <thead>\n",
       "    <tr style=\"text-align: right;\">\n",
       "      <th></th>\n",
       "      <th>Country</th>\n",
       "      <th>Year</th>\n",
       "      <th>GDP_Per_Capita</th>\n",
       "      <th>Internet_Users_Pct</th>\n",
       "    </tr>\n",
       "  </thead>\n",
       "  <tbody>\n",
       "    <tr>\n",
       "      <th>0</th>\n",
       "      <td>Afghanistan</td>\n",
       "      <td>2014</td>\n",
       "      <td>2102.385234</td>\n",
       "      <td>6.390000</td>\n",
       "    </tr>\n",
       "    <tr>\n",
       "      <th>1</th>\n",
       "      <td>Afghanistan</td>\n",
       "      <td>2013</td>\n",
       "      <td>2116.465454</td>\n",
       "      <td>5.900000</td>\n",
       "    </tr>\n",
       "    <tr>\n",
       "      <th>2</th>\n",
       "      <td>Afghanistan</td>\n",
       "      <td>2012</td>\n",
       "      <td>2075.491747</td>\n",
       "      <td>5.454545</td>\n",
       "    </tr>\n",
       "    <tr>\n",
       "      <th>3</th>\n",
       "      <td>Afghanistan</td>\n",
       "      <td>2011</td>\n",
       "      <td>1904.559799</td>\n",
       "      <td>5.000000</td>\n",
       "    </tr>\n",
       "    <tr>\n",
       "      <th>4</th>\n",
       "      <td>Afghanistan</td>\n",
       "      <td>2010</td>\n",
       "      <td>1957.029338</td>\n",
       "      <td>4.000000</td>\n",
       "    </tr>\n",
       "    <tr>\n",
       "      <th>5</th>\n",
       "      <td>Afghanistan</td>\n",
       "      <td>2009</td>\n",
       "      <td>1758.904043</td>\n",
       "      <td>3.550000</td>\n",
       "    </tr>\n",
       "  </tbody>\n",
       "</table>\n",
       "</div>"
      ],
      "text/plain": [
       "       Country  Year  GDP_Per_Capita  Internet_Users_Pct\n",
       "0  Afghanistan  2014     2102.385234            6.390000\n",
       "1  Afghanistan  2013     2116.465454            5.900000\n",
       "2  Afghanistan  2012     2075.491747            5.454545\n",
       "3  Afghanistan  2011     1904.559799            5.000000\n",
       "4  Afghanistan  2010     1957.029338            4.000000\n",
       "5  Afghanistan  2009     1758.904043            3.550000"
      ]
     },
     "execution_count": 54,
     "metadata": {},
     "output_type": "execute_result"
    }
   ],
   "source": [
    "gdp_and_internet_use.head(6)"
   ]
  },
  {
   "cell_type": "code",
   "execution_count": 55,
   "id": "2a542f89",
   "metadata": {},
   "outputs": [
    {
     "data": {
      "text/html": [
       "<div>\n",
       "<style scoped>\n",
       "    .dataframe tbody tr th:only-of-type {\n",
       "        vertical-align: middle;\n",
       "    }\n",
       "\n",
       "    .dataframe tbody tr th {\n",
       "        vertical-align: top;\n",
       "    }\n",
       "\n",
       "    .dataframe thead th {\n",
       "        text-align: right;\n",
       "    }\n",
       "</style>\n",
       "<table border=\"1\" class=\"dataframe\">\n",
       "  <thead>\n",
       "    <tr style=\"text-align: right;\">\n",
       "      <th></th>\n",
       "      <th>Country</th>\n",
       "      <th>Year</th>\n",
       "      <th>GDP_Per_Capita</th>\n",
       "      <th>Internet_Users_Pct</th>\n",
       "    </tr>\n",
       "  </thead>\n",
       "  <tbody>\n",
       "    <tr>\n",
       "      <th>3453</th>\n",
       "      <td>Zimbabwe</td>\n",
       "      <td>1997</td>\n",
       "      <td>3580.048793</td>\n",
       "      <td>0.033080</td>\n",
       "    </tr>\n",
       "    <tr>\n",
       "      <th>3454</th>\n",
       "      <td>Zimbabwe</td>\n",
       "      <td>1996</td>\n",
       "      <td>3520.430146</td>\n",
       "      <td>0.016790</td>\n",
       "    </tr>\n",
       "    <tr>\n",
       "      <th>3455</th>\n",
       "      <td>Zimbabwe</td>\n",
       "      <td>1995</td>\n",
       "      <td>3226.413930</td>\n",
       "      <td>0.007684</td>\n",
       "    </tr>\n",
       "    <tr>\n",
       "      <th>3456</th>\n",
       "      <td>Zimbabwe</td>\n",
       "      <td>1994</td>\n",
       "      <td>3263.934978</td>\n",
       "      <td>0.001739</td>\n",
       "    </tr>\n",
       "    <tr>\n",
       "      <th>3457</th>\n",
       "      <td>Zimbabwe</td>\n",
       "      <td>1990</td>\n",
       "      <td>3324.348171</td>\n",
       "      <td>0.000000</td>\n",
       "    </tr>\n",
       "    <tr>\n",
       "      <th>3458</th>\n",
       "      <td>footnoteSeqID</td>\n",
       "      <td>Footnote</td>\n",
       "      <td>NaN</td>\n",
       "      <td>NaN</td>\n",
       "    </tr>\n",
       "  </tbody>\n",
       "</table>\n",
       "</div>"
      ],
      "text/plain": [
       "            Country      Year  GDP_Per_Capita  Internet_Users_Pct\n",
       "3453       Zimbabwe      1997     3580.048793            0.033080\n",
       "3454       Zimbabwe      1996     3520.430146            0.016790\n",
       "3455       Zimbabwe      1995     3226.413930            0.007684\n",
       "3456       Zimbabwe      1994     3263.934978            0.001739\n",
       "3457       Zimbabwe      1990     3324.348171            0.000000\n",
       "3458  footnoteSeqID  Footnote             NaN                 NaN"
      ]
     },
     "execution_count": 55,
     "metadata": {},
     "output_type": "execute_result"
    }
   ],
   "source": [
    "gdp_and_internet_use.tail(6)"
   ]
  },
  {
   "cell_type": "code",
   "execution_count": null,
   "id": "13329663",
   "metadata": {},
   "outputs": [],
   "source": []
  }
 ],
 "metadata": {
  "kernelspec": {
   "display_name": "Python 3 (ipykernel)",
   "language": "python",
   "name": "python3"
  },
  "language_info": {
   "codemirror_mode": {
    "name": "ipython",
    "version": 3
   },
   "file_extension": ".py",
   "mimetype": "text/x-python",
   "name": "python",
   "nbconvert_exporter": "python",
   "pygments_lexer": "ipython3",
   "version": "3.9.7"
  }
 },
 "nbformat": 4,
 "nbformat_minor": 5
}
